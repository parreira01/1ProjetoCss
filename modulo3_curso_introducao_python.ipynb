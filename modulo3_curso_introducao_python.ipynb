{
  "nbformat": 4,
  "nbformat_minor": 0,
  "metadata": {
    "colab": {
      "provenance": [],
      "include_colab_link": true
    },
    "kernelspec": {
      "name": "python3",
      "display_name": "Python 3"
    }
  },
  "cells": [
    {
      "cell_type": "markdown",
      "metadata": {
        "id": "view-in-github",
        "colab_type": "text"
      },
      "source": [
        "<a href=\"https://colab.research.google.com/github/parreira01/1ProjetoCss/blob/master/modulo3_curso_introducao_python.ipynb\" target=\"_parent\"><img src=\"https://colab.research.google.com/assets/colab-badge.svg\" alt=\"Open In Colab\"/></a>"
      ]
    },
    {
      "cell_type": "markdown",
      "metadata": {
        "id": "hokXzlfdissf"
      },
      "source": [
        "# Curso de Introdução ao Python: Módulo 3\n",
        "\n",
        "---\n",
        "\n",
        "<center>\n",
        "<img src=\"https://github.com/marcelorandolfo/data-science/raw/master/images/imagem_curso.png\" width=\"3000\"/>\n",
        "</center>\n",
        "\n",
        "\n",
        "**Marcelo Randolfo** \\\\\n",
        "**Fundação João Pinheiro**"
      ]
    },
    {
      "cell_type": "markdown",
      "metadata": {
        "id": "J-ZBU2Usi90e"
      },
      "source": [
        "---\n",
        "## Outros pacotes úteis do Python\n",
        "\n",
        "Atualmente existem mais de 240 mil pacotes implementados na linguagem Python e publicados no Python Package Index, [PyPI](https://pypi.org/). Sem dúvidas o mais utilizado entre eles é o pacote pandas, visto no módulo anterior, mas há outros pacotes bastante úteis também.\n",
        "\n",
        "Neste módulo vamos observar quatro deles: [math](https://docs.python.org/3/library/math.html), [statistics](https://docs.python.org/3/library/statistics.html), [numpy](https://numpy.org/) e [sidrapy](https://pypi.org/project/sidrapy/).\n",
        "\n",
        "---\n",
        "\n",
        "### Pacote math\n",
        "\n",
        "O pacote math disponibiliza diversas funções de cálculos matemáticos como raiz quadrada, exponencial, logaritmo, fatorial, além de funções de ajuste de valores. O pacote math também disponibiliza ao usuário valores de constantes mais utilizadas como *pi* e logaritmo natural (*e*).\n",
        "\n",
        "O primeiro passo para utilizar o pacote é importá-lo para o ambiente Python do notebook."
      ]
    },
    {
      "cell_type": "code",
      "metadata": {
        "id": "sgLHEWmMwknB"
      },
      "source": [
        "# importando o pacote math\n",
        "import math"
      ],
      "execution_count": null,
      "outputs": []
    },
    {
      "cell_type": "code",
      "metadata": {
        "id": "cOWi-FzZwm2J",
        "colab": {
          "base_uri": "https://localhost:8080/",
          "height": 51
        },
        "outputId": "a8d8edbd-b8f6-48a7-d975-9b571ec4e6ec"
      },
      "source": [
        "# obtendo os valores das constantes\n",
        "print('Pi: {}'.format(math.pi))\n",
        "print('Logaritmo natural: {}'.format(math.e))"
      ],
      "execution_count": null,
      "outputs": [
        {
          "output_type": "stream",
          "text": [
            "Pi: 3.141592653589793\n",
            "Logaritmo natural: 2.718281828459045\n"
          ],
          "name": "stdout"
        }
      ]
    },
    {
      "cell_type": "code",
      "metadata": {
        "id": "XgVa94azyBXF",
        "colab": {
          "base_uri": "https://localhost:8080/",
          "height": 34
        },
        "outputId": "479b8823-6853-4d58-8e4d-2e7d3008b052"
      },
      "source": [
        "# transformando os valores com o pacote math\n",
        "pi_floor = math.floor(math.pi)\n",
        "print('Valor de pi arredondado para baixo: {}'.format(pi_floor))"
      ],
      "execution_count": null,
      "outputs": [
        {
          "output_type": "stream",
          "text": [
            "Valor de pi arredondado para baixo: 3\n"
          ],
          "name": "stdout"
        }
      ]
    },
    {
      "cell_type": "code",
      "metadata": {
        "id": "oiFNDouJyd1o",
        "colab": {
          "base_uri": "https://localhost:8080/",
          "height": 34
        },
        "outputId": "121762c8-cd2a-4054-b50b-6779b00b7f50"
      },
      "source": [
        "# transformando os valores com o pacote math\n",
        "pi_ceil = math.ceil(math.pi)\n",
        "print('Valor de pi arredondado para cima: {}'.format(pi_ceil))"
      ],
      "execution_count": null,
      "outputs": [
        {
          "output_type": "stream",
          "text": [
            "Valor de pi arredondado para cima: 4\n"
          ],
          "name": "stdout"
        }
      ]
    },
    {
      "cell_type": "code",
      "metadata": {
        "id": "m6cBBiJVzmGh",
        "colab": {
          "base_uri": "https://localhost:8080/",
          "height": 34
        },
        "outputId": "ca4f54c2-acb4-49c2-e9a5-b14f4c19f2b7"
      },
      "source": [
        "# transformando os valores (função round não é do pacote math)\n",
        "pi_round = round(math.pi, 5)\n",
        "print('Valor de pi com 5 casas decimais: {}'.format(pi_round))"
      ],
      "execution_count": null,
      "outputs": [
        {
          "output_type": "stream",
          "text": [
            "Valor de pi com 5 casas decimais: 3.14159\n"
          ],
          "name": "stdout"
        }
      ]
    },
    {
      "cell_type": "code",
      "metadata": {
        "id": "LqLIg37719qw",
        "colab": {
          "base_uri": "https://localhost:8080/",
          "height": 34
        },
        "outputId": "b34c16c8-0bd2-4db5-8606-46db21136cf0"
      },
      "source": [
        "# cálculos com a função math - raiz quadrada\n",
        "valor = 36\n",
        "print('Raiz quadrada: {}'.format(math.sqrt(valor)))"
      ],
      "execution_count": null,
      "outputs": [
        {
          "output_type": "stream",
          "text": [
            "Raiz quadrada: 6.0\n"
          ],
          "name": "stdout"
        }
      ]
    },
    {
      "cell_type": "code",
      "metadata": {
        "id": "w8Vx24CL4BdL",
        "colab": {
          "base_uri": "https://localhost:8080/",
          "height": 34
        },
        "outputId": "dfc6abaa-2488-41ce-a580-f3f21c244269"
      },
      "source": [
        "# cálculos com a função math - logaritmo\n",
        "valor = 180\n",
        "print('Logaritmo: {}'.format(math.log(valor)))"
      ],
      "execution_count": null,
      "outputs": [
        {
          "output_type": "stream",
          "text": [
            "Logaritmo: 5.19295685089021\n"
          ],
          "name": "stdout"
        }
      ]
    },
    {
      "cell_type": "code",
      "metadata": {
        "id": "2EO_m3JJ4VrH",
        "colab": {
          "base_uri": "https://localhost:8080/",
          "height": 34
        },
        "outputId": "fcc021c6-7ec0-463a-b94f-2ca30f133b4f"
      },
      "source": [
        "# cálculos com a função math - logaritmo na base 10\n",
        "valor = 180\n",
        "print('Logaritmo: {}'.format(math.log10(valor)))"
      ],
      "execution_count": null,
      "outputs": [
        {
          "output_type": "stream",
          "text": [
            "Logaritmo: 2.255272505103306\n"
          ],
          "name": "stdout"
        }
      ]
    },
    {
      "cell_type": "code",
      "metadata": {
        "id": "Afxf3X_q49dk",
        "colab": {
          "base_uri": "https://localhost:8080/",
          "height": 34
        },
        "outputId": "26580e20-728f-4c37-92ee-4e1bd9918a82"
      },
      "source": [
        "# cálculos com a função math - potenciação\n",
        "valor_a = 25\n",
        "valor_b = 10\n",
        "print('Valor de a elevado ao valor de b: {}'.format(math.pow(valor_a,valor_b)))"
      ],
      "execution_count": null,
      "outputs": [
        {
          "output_type": "stream",
          "text": [
            "Valor de a elevado ao valor de b: 95367431640625.0\n"
          ],
          "name": "stdout"
        }
      ]
    },
    {
      "cell_type": "code",
      "metadata": {
        "id": "XIaehE_Z5Tzh",
        "colab": {
          "base_uri": "https://localhost:8080/",
          "height": 34
        },
        "outputId": "20d38ad8-7890-4df3-addd-fd305de78ccb"
      },
      "source": [
        "valor_a ** valor_b"
      ],
      "execution_count": null,
      "outputs": [
        {
          "output_type": "execute_result",
          "data": {
            "text/plain": [
              "95367431640625"
            ]
          },
          "metadata": {
            "tags": []
          },
          "execution_count": 22
        }
      ]
    },
    {
      "cell_type": "code",
      "metadata": {
        "id": "KEt3azq75k5O",
        "colab": {
          "base_uri": "https://localhost:8080/",
          "height": 34
        },
        "outputId": "fb3adbfa-0ecd-4c86-d2f3-4a34cc389198"
      },
      "source": [
        "# criando uma lista\n",
        "lista = [25, 23, 28, 30, 28, 18, 31, 'Ausente', 27, 30]\n",
        "print(lista)"
      ],
      "execution_count": null,
      "outputs": [
        {
          "output_type": "stream",
          "text": [
            "[25, 23, 28, 30, 28, 18, 31, 'Ausente', 27, 30]\n"
          ],
          "name": "stdout"
        }
      ]
    },
    {
      "cell_type": "code",
      "metadata": {
        "id": "YiYtAJDS59sk",
        "colab": {
          "base_uri": "https://localhost:8080/",
          "height": 35
        },
        "outputId": "3c322887-60b4-40ca-bc3e-03b5f554bc8e"
      },
      "source": [
        "# acessando o index do valor ausente\n",
        "lista[-3]"
      ],
      "execution_count": null,
      "outputs": [
        {
          "output_type": "execute_result",
          "data": {
            "application/vnd.google.colaboratory.intrinsic": {
              "type": "string"
            },
            "text/plain": [
              "'Ausente'"
            ]
          },
          "metadata": {
            "tags": []
          },
          "execution_count": 27
        }
      ]
    },
    {
      "cell_type": "code",
      "metadata": {
        "id": "2CMcm0zl6BCE",
        "colab": {
          "base_uri": "https://localhost:8080/",
          "height": 34
        },
        "outputId": "45339d90-667d-4a3f-94cc-00759612a7f8"
      },
      "source": [
        "# substituindo o valor ausente\n",
        "lista[-3] = math.nan\n",
        "print(lista)"
      ],
      "execution_count": null,
      "outputs": [
        {
          "output_type": "stream",
          "text": [
            "[25, 23, 28, 30, 28, 18, 31, nan, 27, 30]\n"
          ],
          "name": "stdout"
        }
      ]
    },
    {
      "cell_type": "markdown",
      "metadata": {
        "id": "F4u9qM7hX1bE"
      },
      "source": [
        "---\n",
        "\n",
        "### Pacote statistics\n",
        "\n",
        "Por sua vez,  o pacote `statistics` disponibiliza funções para cálculo de métricas estatísticas, como média, mediana, desvio padrão, variância.\n",
        "\n",
        "*Importante*: algumas funções do pacote statistics estão também implementadas no pacote pandas. Então se o usuário estiver trabalhando com dados de um Dataframe e quiser calcular estatísticas mais simples como média ou desvio padrão, o próprio pacote pandas já oferece essas funções, tornando dispensável o uso do pacote statistics.\n",
        "\n",
        "Porém, se o usuário estiver trabalhando com dados em formatos de listas ou tuplas ou quiser calcular estatísticas mais complexas como média harmônica e variância/desvio padrão populacionais, o pacote statistics é mais indicado."
      ]
    },
    {
      "cell_type": "code",
      "metadata": {
        "id": "Crr-QDgsX2af"
      },
      "source": [
        "# importando o pacote statistics\n",
        "import statistics as st"
      ],
      "execution_count": null,
      "outputs": []
    },
    {
      "cell_type": "code",
      "metadata": {
        "id": "zDG9985HhqmR",
        "colab": {
          "base_uri": "https://localhost:8080/",
          "height": 34
        },
        "outputId": "87b794c5-5b72-4b76-d4ce-e7332a0e744e"
      },
      "source": [
        "# criando uma lista com dados\n",
        "lista = [1, 5, 9, 11, 18, 20, 21, 35, 47, 47]\n",
        "lista"
      ],
      "execution_count": null,
      "outputs": [
        {
          "output_type": "execute_result",
          "data": {
            "text/plain": [
              "[1, 5, 9, 11, 18, 20, 21, 35, 47, 47]"
            ]
          },
          "metadata": {
            "tags": []
          },
          "execution_count": 2
        }
      ]
    },
    {
      "cell_type": "code",
      "metadata": {
        "id": "16yxYPrfiLYi",
        "colab": {
          "base_uri": "https://localhost:8080/",
          "height": 34
        },
        "outputId": "31023b61-782e-46be-ca9d-b68a5ada690d"
      },
      "source": [
        "# calculando a média\n",
        "st.mean(lista)"
      ],
      "execution_count": null,
      "outputs": [
        {
          "output_type": "execute_result",
          "data": {
            "text/plain": [
              "21.4"
            ]
          },
          "metadata": {
            "tags": []
          },
          "execution_count": 3
        }
      ]
    },
    {
      "cell_type": "code",
      "metadata": {
        "id": "IDDHrmyUiQfa"
      },
      "source": [
        "# salvando o resultado em um objeto\n",
        "media = st.mean(lista)"
      ],
      "execution_count": null,
      "outputs": []
    },
    {
      "cell_type": "code",
      "metadata": {
        "id": "HSuOezgTiaiO",
        "colab": {
          "base_uri": "https://localhost:8080/",
          "height": 34
        },
        "outputId": "1cfe4b68-407d-4813-909c-1221cdf2d4b6"
      },
      "source": [
        "# calculando a mediana\n",
        "mediana = st.median(lista)\n",
        "mediana"
      ],
      "execution_count": null,
      "outputs": [
        {
          "output_type": "execute_result",
          "data": {
            "text/plain": [
              "19.0"
            ]
          },
          "metadata": {
            "tags": []
          },
          "execution_count": 5
        }
      ]
    },
    {
      "cell_type": "code",
      "metadata": {
        "id": "FSJ6h30WlFhh",
        "colab": {
          "base_uri": "https://localhost:8080/",
          "height": 34
        },
        "outputId": "dd604f48-5576-4078-e422-0cd47407b4de"
      },
      "source": [
        "# calculando a mediana baixa\n",
        "mediana_baixa = st.median_low(lista)\n",
        "mediana_baixa"
      ],
      "execution_count": null,
      "outputs": [
        {
          "output_type": "execute_result",
          "data": {
            "text/plain": [
              "18"
            ]
          },
          "metadata": {
            "tags": []
          },
          "execution_count": 6
        }
      ]
    },
    {
      "cell_type": "code",
      "metadata": {
        "id": "MSkz-1HUlLdd",
        "colab": {
          "base_uri": "https://localhost:8080/",
          "height": 34
        },
        "outputId": "1a659e9b-02b6-4c39-a206-dfa1b1eca6e2"
      },
      "source": [
        "# calculando a mediana alta\n",
        "mediana_alta = st.median_high(lista)\n",
        "mediana_alta"
      ],
      "execution_count": null,
      "outputs": [
        {
          "output_type": "execute_result",
          "data": {
            "text/plain": [
              "20"
            ]
          },
          "metadata": {
            "tags": []
          },
          "execution_count": 7
        }
      ]
    },
    {
      "cell_type": "code",
      "metadata": {
        "id": "bazSLU-dihOe",
        "colab": {
          "base_uri": "https://localhost:8080/",
          "height": 34
        },
        "outputId": "4bf65794-dd36-4dca-fedb-f4df9a7691ae"
      },
      "source": [
        "# calculando a media harmônica\n",
        "media_harmonica = st.harmonic_mean(lista)\n",
        "media_harmonica"
      ],
      "execution_count": null,
      "outputs": [
        {
          "output_type": "execute_result",
          "data": {
            "text/plain": [
              "6.148853567575374"
            ]
          },
          "metadata": {
            "tags": []
          },
          "execution_count": 8
        }
      ]
    },
    {
      "cell_type": "code",
      "metadata": {
        "id": "fVrgrNkki_Im",
        "colab": {
          "base_uri": "https://localhost:8080/",
          "height": 51
        },
        "outputId": "c7b8a059-11f9-4d18-e9f2-4e17ad75ba79"
      },
      "source": [
        "# calculando a variância amostral e populacional\n",
        "var_amostral = st.variance(lista)\n",
        "var_populacional = st.pvariance(lista)\n",
        "\n",
        "# observando valores\n",
        "print('Variância amostral: {}'.format(var_amostral))\n",
        "print('Variância populacional: {}'.format(var_populacional))"
      ],
      "execution_count": null,
      "outputs": [
        {
          "output_type": "stream",
          "text": [
            "Variância amostral: 272.93333333333334\n",
            "Variância populacional: 245.64000000000001\n"
          ],
          "name": "stdout"
        }
      ]
    },
    {
      "cell_type": "code",
      "metadata": {
        "id": "S5uruFsFlBm8",
        "colab": {
          "base_uri": "https://localhost:8080/",
          "height": 51
        },
        "outputId": "ed00c3df-a902-45af-92d6-ae3c74f36b5b"
      },
      "source": [
        "# calculando o desvio padrão amostral e populacional\n",
        "std_amostral = st.stdev(lista)\n",
        "std_populacional = st.pstdev(lista)\n",
        "\n",
        "# observando valores\n",
        "print('Desvio padrão amostral: {}'.format(std_amostral))\n",
        "print('Desvio padrão populacional: {}'.format(std_populacional))"
      ],
      "execution_count": null,
      "outputs": [
        {
          "output_type": "stream",
          "text": [
            "Desvio padrão amostral: 16.520694093570444\n",
            "Desvio padrão populacional: 15.672906558772052\n"
          ],
          "name": "stdout"
        }
      ]
    },
    {
      "cell_type": "code",
      "metadata": {
        "id": "LngaY2F-py4N",
        "colab": {
          "base_uri": "https://localhost:8080/",
          "height": 51
        },
        "outputId": "02ecfb49-3f18-404d-b38c-02cd10199693"
      },
      "source": [
        "# conferindo resultados\n",
        "print('Desvio padrão por meio da raiz quadrada da variância amostral: {}'.format(math.sqrt(var_amostral)))\n",
        "print('Desvio padrão por meio da raiz quadrada da variância populacional: {}'.format(math.sqrt(var_populacional)))"
      ],
      "execution_count": null,
      "outputs": [
        {
          "output_type": "stream",
          "text": [
            "Desvio padrão por meio da raiz quadrada da variância amostral: 16.520694093570444\n",
            "Desvio padrão por meio da raiz quadrada da variância populacional: 15.672906558772052\n"
          ],
          "name": "stdout"
        }
      ]
    },
    {
      "cell_type": "markdown",
      "metadata": {
        "id": "YjpAQnC1ucUd"
      },
      "source": [
        "---\n",
        "\n",
        "### Pacote numpy\n",
        "\n",
        "O pacote numpy é utilizado na programação Python para realizar cálculos matemáticos utilizando arranjos, vetores, matrizes e arrays (que são matrizes de N dimensões em conjunto). O pacote se assemelha em poder computacional com o software **Matlab**, mas com a legibilidade da linguagem Python.\n",
        "\n",
        "Dentre os objetos do numpy destacam-se:\n",
        "  * Objeto matriz: que permite o uso de funções relacionadas a algebra linear.\n",
        "  * Objeto array: que permite o cálculo com objetos multidimensionais (muito utilizado em aplicações de *Machine Learning*).\n",
        "\n",
        "Além do destaque aos objetos próprios do pacote, com o numpy também é possível gerar números aleatórios ou séries derivadas de uma distribuição de probabilidade qualquer.\n",
        "\n",
        "Para utilizar as funções do numpy precisamos primeiro importá-lo."
      ]
    },
    {
      "cell_type": "code",
      "metadata": {
        "id": "NdTyQXnrwO1G"
      },
      "source": [
        "# importando o pacote numpy\n",
        "import numpy as np"
      ],
      "execution_count": null,
      "outputs": []
    },
    {
      "cell_type": "code",
      "metadata": {
        "id": "3kKMS7B0w6aJ",
        "colab": {
          "base_uri": "https://localhost:8080/",
          "height": 34
        },
        "outputId": "3fb5b13b-d0fd-47d4-9e8d-7a65ef4d05d4"
      },
      "source": [
        "# criando um array de uma dimensão (matriz-linha)\n",
        "matriz_linha = np.array([1, 2, 3, 4, 5])\n",
        "matriz_linha"
      ],
      "execution_count": null,
      "outputs": [
        {
          "output_type": "execute_result",
          "data": {
            "text/plain": [
              "array([1, 2, 3, 4, 5])"
            ]
          },
          "metadata": {
            "tags": []
          },
          "execution_count": 9
        }
      ]
    },
    {
      "cell_type": "code",
      "metadata": {
        "id": "CQPKjnEWx4ZC",
        "colab": {
          "base_uri": "https://localhost:8080/",
          "height": 34
        },
        "outputId": "4412e483-1725-4be4-a682-b31c7d8de951"
      },
      "source": [
        "# obtendo a dimensão dessa matriz-linha\n",
        "print(matriz_linha.shape)"
      ],
      "execution_count": null,
      "outputs": [
        {
          "output_type": "stream",
          "text": [
            "(5,)\n"
          ],
          "name": "stdout"
        }
      ]
    },
    {
      "cell_type": "code",
      "metadata": {
        "id": "9fbHiu9ayFIg",
        "colab": {
          "base_uri": "https://localhost:8080/",
          "height": 102
        },
        "outputId": "8436639f-a1f8-4859-d900-f9c5d97b97e6"
      },
      "source": [
        "# obtendo um vetor por meio da matriz-linha\n",
        "vetor = matriz_linha.reshape(5,1)\n",
        "vetor"
      ],
      "execution_count": null,
      "outputs": [
        {
          "output_type": "execute_result",
          "data": {
            "text/plain": [
              "array([[1],\n",
              "       [2],\n",
              "       [3],\n",
              "       [4],\n",
              "       [5]])"
            ]
          },
          "metadata": {
            "tags": []
          },
          "execution_count": 13
        }
      ]
    },
    {
      "cell_type": "code",
      "metadata": {
        "id": "8aZV72WXymPn",
        "colab": {
          "base_uri": "https://localhost:8080/",
          "height": 68
        },
        "outputId": "01cc9edc-0984-42e4-8191-8022aa0c3ed9"
      },
      "source": [
        "# criando um array de mais de uma dimensão\n",
        "matriz = np.array([[1, 2, 3, 4, 5], [6, 7, 8, 9, 10], [11, 12, 13, 14, 15]])\n",
        "matriz"
      ],
      "execution_count": null,
      "outputs": [
        {
          "output_type": "execute_result",
          "data": {
            "text/plain": [
              "array([[ 1,  2,  3,  4,  5],\n",
              "       [ 6,  7,  8,  9, 10],\n",
              "       [11, 12, 13, 14, 15]])"
            ]
          },
          "metadata": {
            "tags": []
          },
          "execution_count": 14
        }
      ]
    },
    {
      "cell_type": "code",
      "metadata": {
        "id": "Q7WG9CLEzVD0",
        "colab": {
          "base_uri": "https://localhost:8080/",
          "height": 34
        },
        "outputId": "b61dbf0a-9259-439f-c11a-beeac94b92b9"
      },
      "source": [
        "# obtendo a primeira linha da matriz\n",
        "linha_0 = matriz[0,:]\n",
        "linha_0"
      ],
      "execution_count": null,
      "outputs": [
        {
          "output_type": "execute_result",
          "data": {
            "text/plain": [
              "array([1, 2, 3, 4, 5])"
            ]
          },
          "metadata": {
            "tags": []
          },
          "execution_count": 18
        }
      ]
    },
    {
      "cell_type": "code",
      "metadata": {
        "id": "uOgWTJI8zeuZ",
        "colab": {
          "base_uri": "https://localhost:8080/",
          "height": 34
        },
        "outputId": "c8edb044-265f-44db-c2c0-22db1e9d94c7"
      },
      "source": [
        "# obtendo a última coluna\n",
        "ultima_coluna = matriz[:,-1]\n",
        "ultima_coluna"
      ],
      "execution_count": null,
      "outputs": [
        {
          "output_type": "execute_result",
          "data": {
            "text/plain": [
              "array([ 5, 10, 15])"
            ]
          },
          "metadata": {
            "tags": []
          },
          "execution_count": 19
        }
      ]
    },
    {
      "cell_type": "code",
      "metadata": {
        "id": "lKOY93Gw0R3S",
        "colab": {
          "base_uri": "https://localhost:8080/",
          "height": 34
        },
        "outputId": "15b232af-fcb6-4f57-c5ad-74dc6dc868db"
      },
      "source": [
        "# obtendo o valor da segunda linha e da terceira coluna\n",
        "valor_1_2 = matriz[1,2]\n",
        "valor_1_2"
      ],
      "execution_count": null,
      "outputs": [
        {
          "output_type": "execute_result",
          "data": {
            "text/plain": [
              "8"
            ]
          },
          "metadata": {
            "tags": []
          },
          "execution_count": 21
        }
      ]
    },
    {
      "cell_type": "code",
      "metadata": {
        "id": "66yRaaB30km2",
        "colab": {
          "base_uri": "https://localhost:8080/",
          "height": 68
        },
        "outputId": "75646bab-e5a7-46b8-d32a-682b978b62ac"
      },
      "source": [
        "# alterando o valor da segunda linha e da terceira coluna\n",
        "matriz[1,2] = 0\n",
        "matriz"
      ],
      "execution_count": null,
      "outputs": [
        {
          "output_type": "execute_result",
          "data": {
            "text/plain": [
              "array([[ 1,  2,  3,  4,  5],\n",
              "       [ 6,  7,  0,  9, 10],\n",
              "       [11, 12, 13, 14, 15]])"
            ]
          },
          "metadata": {
            "tags": []
          },
          "execution_count": 23
        }
      ]
    },
    {
      "cell_type": "code",
      "metadata": {
        "id": "QXNIUCZ004pg",
        "colab": {
          "base_uri": "https://localhost:8080/",
          "height": 51
        },
        "outputId": "af66f213-4b4b-4d48-99c2-24ebac97591d"
      },
      "source": [
        "# obtendo as duas últimas colunas das primeiras duas linhas\n",
        "fatia_matriz = matriz[0:2,-2:]\n",
        "fatia_matriz"
      ],
      "execution_count": null,
      "outputs": [
        {
          "output_type": "execute_result",
          "data": {
            "text/plain": [
              "array([[ 4,  5],\n",
              "       [ 9, 10]])"
            ]
          },
          "metadata": {
            "tags": []
          },
          "execution_count": 26
        }
      ]
    },
    {
      "cell_type": "code",
      "metadata": {
        "id": "p35_Ssx816dQ",
        "colab": {
          "base_uri": "https://localhost:8080/",
          "height": 136
        },
        "outputId": "c6fd6c09-0a6e-4093-da66-5bba4057c4d2"
      },
      "source": [
        "# criando um array\n",
        "novo_array = np.array([[[1, 2, 3, 4, 5], [6, 7, 8, 9, 10], [11, 12, 13, 14, 15]] ,\n",
        "                      [[16, 17, 18, 19, 20], [21, 22, 23, 24, 25], [26, 27, 27, 28, 29]]])\n",
        "novo_array"
      ],
      "execution_count": null,
      "outputs": [
        {
          "output_type": "execute_result",
          "data": {
            "text/plain": [
              "array([[[ 1,  2,  3,  4,  5],\n",
              "        [ 6,  7,  8,  9, 10],\n",
              "        [11, 12, 13, 14, 15]],\n",
              "\n",
              "       [[16, 17, 18, 19, 20],\n",
              "        [21, 22, 23, 24, 25],\n",
              "        [26, 27, 27, 28, 29]]])"
            ]
          },
          "metadata": {
            "tags": []
          },
          "execution_count": 30
        }
      ]
    },
    {
      "cell_type": "code",
      "metadata": {
        "id": "fNYawIWB2WaO",
        "colab": {
          "base_uri": "https://localhost:8080/",
          "height": 68
        },
        "outputId": "c1d6f68a-afeb-451f-cc44-ae6b3e03f571"
      },
      "source": [
        "# obtendo a primeira matriz do array\n",
        "novo_array[0]"
      ],
      "execution_count": null,
      "outputs": [
        {
          "output_type": "execute_result",
          "data": {
            "text/plain": [
              "array([[ 1,  2,  3,  4,  5],\n",
              "       [ 6,  7,  8,  9, 10],\n",
              "       [11, 12, 13, 14, 15]])"
            ]
          },
          "metadata": {
            "tags": []
          },
          "execution_count": 31
        }
      ]
    },
    {
      "cell_type": "code",
      "metadata": {
        "id": "azjb8AxD2moM",
        "colab": {
          "base_uri": "https://localhost:8080/",
          "height": 68
        },
        "outputId": "d18a0e3f-568f-4b8c-db24-66c809806dbe"
      },
      "source": [
        "# obtendo a segunda matriz do array\n",
        "novo_array[1]"
      ],
      "execution_count": null,
      "outputs": [
        {
          "output_type": "execute_result",
          "data": {
            "text/plain": [
              "array([[16, 17, 18, 19, 20],\n",
              "       [21, 22, 23, 24, 25],\n",
              "       [26, 27, 27, 28, 29]])"
            ]
          },
          "metadata": {
            "tags": []
          },
          "execution_count": 32
        }
      ]
    },
    {
      "cell_type": "code",
      "metadata": {
        "id": "mEe1aIEU2sq-",
        "colab": {
          "base_uri": "https://localhost:8080/",
          "height": 34
        },
        "outputId": "e997a668-6335-4c2b-db0b-36070975d044"
      },
      "source": [
        "# obtendo a última linha da segunda matriz do array\n",
        "novo_array[1,-1,:]"
      ],
      "execution_count": null,
      "outputs": [
        {
          "output_type": "execute_result",
          "data": {
            "text/plain": [
              "array([26, 27, 27, 28, 29])"
            ]
          },
          "metadata": {
            "tags": []
          },
          "execution_count": 34
        }
      ]
    },
    {
      "cell_type": "code",
      "metadata": {
        "id": "oiLF-bAw4Qw0",
        "colab": {
          "base_uri": "https://localhost:8080/",
          "height": 34
        },
        "outputId": "0fcdf9a2-2853-4dd3-ec6e-da264457dbd4"
      },
      "source": [
        "# obtendo a segunda coluna da primeira matriz do array\n",
        "novo_array[0,:,1]"
      ],
      "execution_count": null,
      "outputs": [
        {
          "output_type": "execute_result",
          "data": {
            "text/plain": [
              "array([ 2,  7, 12])"
            ]
          },
          "metadata": {
            "tags": []
          },
          "execution_count": 35
        }
      ]
    },
    {
      "cell_type": "code",
      "metadata": {
        "id": "cJIHlSi24gCR",
        "colab": {
          "base_uri": "https://localhost:8080/",
          "height": 68
        },
        "outputId": "667de8d8-0ad2-46db-d779-4d1033f114b0"
      },
      "source": [
        "# utilizando operadores\n",
        "matriz > 6"
      ],
      "execution_count": null,
      "outputs": [
        {
          "output_type": "execute_result",
          "data": {
            "text/plain": [
              "array([[False, False, False, False, False],\n",
              "       [False,  True, False,  True,  True],\n",
              "       [ True,  True,  True,  True,  True]])"
            ]
          },
          "metadata": {
            "tags": []
          },
          "execution_count": 36
        }
      ]
    },
    {
      "cell_type": "code",
      "metadata": {
        "id": "4Q3glu2I4rUs",
        "colab": {
          "base_uri": "https://localhost:8080/",
          "height": 68
        },
        "outputId": "3e16cdd2-d07a-4d94-c76c-43401d549fa8"
      },
      "source": [
        "# utilizando operadores\n",
        "matriz == 0"
      ],
      "execution_count": null,
      "outputs": [
        {
          "output_type": "execute_result",
          "data": {
            "text/plain": [
              "array([[False, False, False, False, False],\n",
              "       [False, False,  True, False, False],\n",
              "       [False, False, False, False, False]])"
            ]
          },
          "metadata": {
            "tags": []
          },
          "execution_count": 37
        }
      ]
    },
    {
      "cell_type": "code",
      "metadata": {
        "id": "ksJZwRuy5dpj",
        "colab": {
          "base_uri": "https://localhost:8080/",
          "height": 51
        },
        "outputId": "b274fb90-5742-476a-a4f2-3866fa8c6e1b"
      },
      "source": [
        "# criando uma matriz 2 x 2 de zeros\n",
        "matriz_zeros = np.zeros(shape = (2,2))\n",
        "matriz_zeros"
      ],
      "execution_count": null,
      "outputs": [
        {
          "output_type": "execute_result",
          "data": {
            "text/plain": [
              "array([[0., 0.],\n",
              "       [0., 0.]])"
            ]
          },
          "metadata": {
            "tags": []
          },
          "execution_count": 38
        }
      ]
    },
    {
      "cell_type": "code",
      "metadata": {
        "id": "LIpacU8w63Jw",
        "colab": {
          "base_uri": "https://localhost:8080/",
          "height": 221
        },
        "outputId": "62881c38-d7b3-42bd-ff9a-775e303168d2"
      },
      "source": [
        "# criando uma coluna com 12 linhas de zeros\n",
        "coluna_zeros = np.zeros(shape = (12,1))\n",
        "coluna_zeros"
      ],
      "execution_count": null,
      "outputs": [
        {
          "output_type": "execute_result",
          "data": {
            "text/plain": [
              "array([[0.],\n",
              "       [0.],\n",
              "       [0.],\n",
              "       [0.],\n",
              "       [0.],\n",
              "       [0.],\n",
              "       [0.],\n",
              "       [0.],\n",
              "       [0.],\n",
              "       [0.],\n",
              "       [0.],\n",
              "       [0.]])"
            ]
          },
          "metadata": {
            "tags": []
          },
          "execution_count": 12
        }
      ]
    },
    {
      "cell_type": "code",
      "metadata": {
        "id": "UEgElJyfNSdn",
        "colab": {
          "base_uri": "https://localhost:8080/",
          "height": 421
        },
        "outputId": "b9b8c7c9-d635-48b8-ff1f-e0c75a76befa"
      },
      "source": [
        "# integração com o pandas\n",
        "import pandas as pd\n",
        "df = pd.DataFrame(data = coluna_zeros, columns = ['Valores'])\n",
        "df"
      ],
      "execution_count": null,
      "outputs": [
        {
          "output_type": "execute_result",
          "data": {
            "text/html": [
              "<div>\n",
              "<style scoped>\n",
              "    .dataframe tbody tr th:only-of-type {\n",
              "        vertical-align: middle;\n",
              "    }\n",
              "\n",
              "    .dataframe tbody tr th {\n",
              "        vertical-align: top;\n",
              "    }\n",
              "\n",
              "    .dataframe thead th {\n",
              "        text-align: right;\n",
              "    }\n",
              "</style>\n",
              "<table border=\"1\" class=\"dataframe\">\n",
              "  <thead>\n",
              "    <tr style=\"text-align: right;\">\n",
              "      <th></th>\n",
              "      <th>Valores</th>\n",
              "    </tr>\n",
              "  </thead>\n",
              "  <tbody>\n",
              "    <tr>\n",
              "      <th>0</th>\n",
              "      <td>0.0</td>\n",
              "    </tr>\n",
              "    <tr>\n",
              "      <th>1</th>\n",
              "      <td>0.0</td>\n",
              "    </tr>\n",
              "    <tr>\n",
              "      <th>2</th>\n",
              "      <td>0.0</td>\n",
              "    </tr>\n",
              "    <tr>\n",
              "      <th>3</th>\n",
              "      <td>0.0</td>\n",
              "    </tr>\n",
              "    <tr>\n",
              "      <th>4</th>\n",
              "      <td>0.0</td>\n",
              "    </tr>\n",
              "    <tr>\n",
              "      <th>5</th>\n",
              "      <td>0.0</td>\n",
              "    </tr>\n",
              "    <tr>\n",
              "      <th>6</th>\n",
              "      <td>0.0</td>\n",
              "    </tr>\n",
              "    <tr>\n",
              "      <th>7</th>\n",
              "      <td>0.0</td>\n",
              "    </tr>\n",
              "    <tr>\n",
              "      <th>8</th>\n",
              "      <td>0.0</td>\n",
              "    </tr>\n",
              "    <tr>\n",
              "      <th>9</th>\n",
              "      <td>0.0</td>\n",
              "    </tr>\n",
              "    <tr>\n",
              "      <th>10</th>\n",
              "      <td>0.0</td>\n",
              "    </tr>\n",
              "    <tr>\n",
              "      <th>11</th>\n",
              "      <td>0.0</td>\n",
              "    </tr>\n",
              "  </tbody>\n",
              "</table>\n",
              "</div>"
            ],
            "text/plain": [
              "    Valores\n",
              "0       0.0\n",
              "1       0.0\n",
              "2       0.0\n",
              "3       0.0\n",
              "4       0.0\n",
              "5       0.0\n",
              "6       0.0\n",
              "7       0.0\n",
              "8       0.0\n",
              "9       0.0\n",
              "10      0.0\n",
              "11      0.0"
            ]
          },
          "metadata": {
            "tags": []
          },
          "execution_count": 14
        }
      ]
    },
    {
      "cell_type": "code",
      "metadata": {
        "id": "5rENfinXIkjF",
        "colab": {
          "base_uri": "https://localhost:8080/",
          "height": 51
        },
        "outputId": "9cf0ec9c-e531-40e6-87e6-c8e5f0768c6c"
      },
      "source": [
        "# criando uma matriz 2x2 com uma constante\n",
        "constante = 5\n",
        "matriz_constante = np.full(shape =  (2,2), fill_value = constante)\n",
        "matriz_constante"
      ],
      "execution_count": null,
      "outputs": [
        {
          "output_type": "execute_result",
          "data": {
            "text/plain": [
              "array([[5, 5],\n",
              "       [5, 5]])"
            ]
          },
          "metadata": {
            "tags": []
          },
          "execution_count": 15
        }
      ]
    },
    {
      "cell_type": "code",
      "metadata": {
        "id": "6aRJqbgHNkKY",
        "colab": {
          "base_uri": "https://localhost:8080/",
          "height": 111
        },
        "outputId": "f36cf968-192c-412c-aa59-d5f2abc10355"
      },
      "source": [
        "# integração com o pandas\n",
        "df_5 = pd.DataFrame(data = matriz_constante, columns=['Coluna 1','Coluna 2'])\n",
        "df_5"
      ],
      "execution_count": null,
      "outputs": [
        {
          "output_type": "execute_result",
          "data": {
            "text/html": [
              "<div>\n",
              "<style scoped>\n",
              "    .dataframe tbody tr th:only-of-type {\n",
              "        vertical-align: middle;\n",
              "    }\n",
              "\n",
              "    .dataframe tbody tr th {\n",
              "        vertical-align: top;\n",
              "    }\n",
              "\n",
              "    .dataframe thead th {\n",
              "        text-align: right;\n",
              "    }\n",
              "</style>\n",
              "<table border=\"1\" class=\"dataframe\">\n",
              "  <thead>\n",
              "    <tr style=\"text-align: right;\">\n",
              "      <th></th>\n",
              "      <th>Coluna 1</th>\n",
              "      <th>Coluna 2</th>\n",
              "    </tr>\n",
              "  </thead>\n",
              "  <tbody>\n",
              "    <tr>\n",
              "      <th>0</th>\n",
              "      <td>5</td>\n",
              "      <td>5</td>\n",
              "    </tr>\n",
              "    <tr>\n",
              "      <th>1</th>\n",
              "      <td>5</td>\n",
              "      <td>5</td>\n",
              "    </tr>\n",
              "  </tbody>\n",
              "</table>\n",
              "</div>"
            ],
            "text/plain": [
              "   Coluna 1  Coluna 2\n",
              "0         5         5\n",
              "1         5         5"
            ]
          },
          "metadata": {
            "tags": []
          },
          "execution_count": 17
        }
      ]
    },
    {
      "cell_type": "code",
      "metadata": {
        "id": "glGYHpKvJCrO",
        "colab": {
          "base_uri": "https://localhost:8080/",
          "height": 51
        },
        "outputId": "310bdf0c-a9c9-49d1-d2f0-97ce7c815fed"
      },
      "source": [
        "# criando uma matriz identidade 2x2\n",
        "matriz_identidade = np.eye(2)\n",
        "matriz_identidade"
      ],
      "execution_count": null,
      "outputs": [
        {
          "output_type": "execute_result",
          "data": {
            "text/plain": [
              "array([[1., 0.],\n",
              "       [0., 1.]])"
            ]
          },
          "metadata": {
            "tags": []
          },
          "execution_count": 43
        }
      ]
    },
    {
      "cell_type": "code",
      "metadata": {
        "id": "g3HEnpQIJP-P",
        "colab": {
          "base_uri": "https://localhost:8080/",
          "height": 68
        },
        "outputId": "b881f500-5910-4a31-ff0b-2b50359812cd"
      },
      "source": [
        "# criando uma matriz identidade 3x3\n",
        "matriz_identidade_3x3 = np.eye(3)\n",
        "matriz_identidade_3x3"
      ],
      "execution_count": null,
      "outputs": [
        {
          "output_type": "execute_result",
          "data": {
            "text/plain": [
              "array([[1., 0., 0.],\n",
              "       [0., 1., 0.],\n",
              "       [0., 0., 1.]])"
            ]
          },
          "metadata": {
            "tags": []
          },
          "execution_count": 44
        }
      ]
    },
    {
      "cell_type": "markdown",
      "metadata": {
        "id": "PV4hH8k_MiJ7"
      },
      "source": [
        "#### Valores aleatórios\n",
        "\n",
        "[**Link**](https://docs.scipy.org/doc//numpy-1.12.0/reference/generated/numpy.random.RandomState.html#numpy.random.RandomState) **de ajuda.**"
      ]
    },
    {
      "cell_type": "code",
      "metadata": {
        "id": "U_4efBhjJWMO",
        "colab": {
          "base_uri": "https://localhost:8080/",
          "height": 51
        },
        "outputId": "ff02fa05-8420-47b1-8026-ca826b0bc5b7"
      },
      "source": [
        "# criando matriz 2x2 com valores aleatórios\n",
        "matriz_aleatoria = np.random.rand(2,2)\n",
        "matriz_aleatoria"
      ],
      "execution_count": null,
      "outputs": [
        {
          "output_type": "execute_result",
          "data": {
            "text/plain": [
              "array([[0.85593525, 0.24420656],\n",
              "       [0.98425316, 0.96212439]])"
            ]
          },
          "metadata": {
            "tags": []
          },
          "execution_count": 2
        }
      ]
    },
    {
      "cell_type": "code",
      "metadata": {
        "id": "JJRCi-kCJr0G",
        "colab": {
          "base_uri": "https://localhost:8080/",
          "height": 51
        },
        "outputId": "43dc7dcc-d4ba-4dca-a0cf-20b58e5627cc"
      },
      "source": [
        "# criando novamente a matriz 2x2 com valores aleatórios\n",
        "matriz_aleatoria = np.random.rand(2,2)\n",
        "matriz_aleatoria"
      ],
      "execution_count": null,
      "outputs": [
        {
          "output_type": "execute_result",
          "data": {
            "text/plain": [
              "array([[0.59139736, 0.7904624 ],\n",
              "       [0.45602361, 0.69486158]])"
            ]
          },
          "metadata": {
            "tags": []
          },
          "execution_count": 3
        }
      ]
    },
    {
      "cell_type": "code",
      "metadata": {
        "id": "y4mIgrS7JuZO",
        "colab": {
          "base_uri": "https://localhost:8080/",
          "height": 51
        },
        "outputId": "08d41162-ca13-4efb-de42-f464eebde165"
      },
      "source": [
        "# criando matriz 2x2 com valores aleatórios com um seed\n",
        "np.random.seed(0)\n",
        "matriz_aleatoria = np.random.rand(2,2)\n",
        "matriz_aleatoria"
      ],
      "execution_count": null,
      "outputs": [
        {
          "output_type": "execute_result",
          "data": {
            "text/plain": [
              "array([[0.5488135 , 0.71518937],\n",
              "       [0.60276338, 0.54488318]])"
            ]
          },
          "metadata": {
            "tags": []
          },
          "execution_count": 4
        }
      ]
    },
    {
      "cell_type": "code",
      "metadata": {
        "id": "2n7Eo_p5J6iC",
        "colab": {
          "base_uri": "https://localhost:8080/",
          "height": 51
        },
        "outputId": "be6ab073-dc53-4135-8848-6d3b47483779"
      },
      "source": [
        "# criando novamente a matriz 2x2 com valores aleatórios com um seed\n",
        "np.random.seed(0)\n",
        "matriz_aleatoria = np.random.rand(2,2)\n",
        "matriz_aleatoria"
      ],
      "execution_count": null,
      "outputs": [
        {
          "output_type": "execute_result",
          "data": {
            "text/plain": [
              "array([[0.5488135 , 0.71518937],\n",
              "       [0.60276338, 0.54488318]])"
            ]
          },
          "metadata": {
            "tags": []
          },
          "execution_count": 6
        }
      ]
    },
    {
      "cell_type": "code",
      "metadata": {
        "id": "9jjbcrViMXr4",
        "colab": {
          "base_uri": "https://localhost:8080/",
          "height": 221
        },
        "outputId": "673fa1d0-d104-4196-a2f0-f64b9f3c679a"
      },
      "source": [
        "# criando uma série com uma distribuição de probabilidade normal\n",
        "series_normal = np.random.normal(loc = 1, scale = 5, size=(12,1))\n",
        "series_normal"
      ],
      "execution_count": null,
      "outputs": [
        {
          "output_type": "execute_result",
          "data": {
            "text/plain": [
              "array([[-0.79445027],\n",
              "       [-1.61541995],\n",
              "       [ 3.15976837],\n",
              "       [ 5.74218634],\n",
              "       [ 3.79212485],\n",
              "       [ 1.5922023 ],\n",
              "       [-4.93617403],\n",
              "       [-1.86539517],\n",
              "       [-3.5937559 ],\n",
              "       [-1.29992917],\n",
              "       [-0.54593449],\n",
              "       [ 1.44196605]])"
            ]
          },
          "metadata": {
            "tags": []
          },
          "execution_count": 2
        }
      ]
    },
    {
      "cell_type": "code",
      "metadata": {
        "id": "sEH66DzANyql",
        "colab": {
          "base_uri": "https://localhost:8080/",
          "height": 421
        },
        "outputId": "a532802a-d8b1-4b3a-e7df-b142dc9a49cd"
      },
      "source": [
        "# integração com o pandas\n",
        "df_normal = pd.DataFrame(data = series_normal, columns = ['Dist. Normal'])\n",
        "df_normal"
      ],
      "execution_count": null,
      "outputs": [
        {
          "output_type": "execute_result",
          "data": {
            "text/html": [
              "<div>\n",
              "<style scoped>\n",
              "    .dataframe tbody tr th:only-of-type {\n",
              "        vertical-align: middle;\n",
              "    }\n",
              "\n",
              "    .dataframe tbody tr th {\n",
              "        vertical-align: top;\n",
              "    }\n",
              "\n",
              "    .dataframe thead th {\n",
              "        text-align: right;\n",
              "    }\n",
              "</style>\n",
              "<table border=\"1\" class=\"dataframe\">\n",
              "  <thead>\n",
              "    <tr style=\"text-align: right;\">\n",
              "      <th></th>\n",
              "      <th>Dist. Normal</th>\n",
              "    </tr>\n",
              "  </thead>\n",
              "  <tbody>\n",
              "    <tr>\n",
              "      <th>0</th>\n",
              "      <td>-0.794450</td>\n",
              "    </tr>\n",
              "    <tr>\n",
              "      <th>1</th>\n",
              "      <td>-1.615420</td>\n",
              "    </tr>\n",
              "    <tr>\n",
              "      <th>2</th>\n",
              "      <td>3.159768</td>\n",
              "    </tr>\n",
              "    <tr>\n",
              "      <th>3</th>\n",
              "      <td>5.742186</td>\n",
              "    </tr>\n",
              "    <tr>\n",
              "      <th>4</th>\n",
              "      <td>3.792125</td>\n",
              "    </tr>\n",
              "    <tr>\n",
              "      <th>5</th>\n",
              "      <td>1.592202</td>\n",
              "    </tr>\n",
              "    <tr>\n",
              "      <th>6</th>\n",
              "      <td>-4.936174</td>\n",
              "    </tr>\n",
              "    <tr>\n",
              "      <th>7</th>\n",
              "      <td>-1.865395</td>\n",
              "    </tr>\n",
              "    <tr>\n",
              "      <th>8</th>\n",
              "      <td>-3.593756</td>\n",
              "    </tr>\n",
              "    <tr>\n",
              "      <th>9</th>\n",
              "      <td>-1.299929</td>\n",
              "    </tr>\n",
              "    <tr>\n",
              "      <th>10</th>\n",
              "      <td>-0.545934</td>\n",
              "    </tr>\n",
              "    <tr>\n",
              "      <th>11</th>\n",
              "      <td>1.441966</td>\n",
              "    </tr>\n",
              "  </tbody>\n",
              "</table>\n",
              "</div>"
            ],
            "text/plain": [
              "    Dist. Normal\n",
              "0      -0.794450\n",
              "1      -1.615420\n",
              "2       3.159768\n",
              "3       5.742186\n",
              "4       3.792125\n",
              "5       1.592202\n",
              "6      -4.936174\n",
              "7      -1.865395\n",
              "8      -3.593756\n",
              "9      -1.299929\n",
              "10     -0.545934\n",
              "11      1.441966"
            ]
          },
          "metadata": {
            "tags": []
          },
          "execution_count": 4
        }
      ]
    },
    {
      "cell_type": "code",
      "metadata": {
        "id": "CTvbCYFkvdyO",
        "colab": {
          "base_uri": "https://localhost:8080/",
          "height": 221
        },
        "outputId": "871f6178-c079-4294-e75a-21f9059051da"
      },
      "source": [
        "df_normal.to_numpy()"
      ],
      "execution_count": null,
      "outputs": [
        {
          "output_type": "execute_result",
          "data": {
            "text/plain": [
              "array([[-0.79445027],\n",
              "       [-1.61541995],\n",
              "       [ 3.15976837],\n",
              "       [ 5.74218634],\n",
              "       [ 3.79212485],\n",
              "       [ 1.5922023 ],\n",
              "       [-4.93617403],\n",
              "       [-1.86539517],\n",
              "       [-3.5937559 ],\n",
              "       [-1.29992917],\n",
              "       [-0.54593449],\n",
              "       [ 1.44196605]])"
            ]
          },
          "metadata": {
            "tags": []
          },
          "execution_count": 6
        }
      ]
    },
    {
      "cell_type": "markdown",
      "metadata": {
        "id": "DRRSsl7kPApR"
      },
      "source": [
        "#### Operações matemáticas"
      ]
    },
    {
      "cell_type": "code",
      "metadata": {
        "id": "jV-jQA-nNLNs",
        "colab": {
          "base_uri": "https://localhost:8080/",
          "height": 136
        },
        "outputId": "819f3868-a1a6-4dcf-d433-618044ecd2fb"
      },
      "source": [
        "# criando duas matrizes\n",
        "matriz_1 = np.array([[1,2],[3,4]], dtype=np.float64)\n",
        "matriz_2 = np.array([[5,6],[7,8]], dtype=np.float64)\n",
        "\n",
        "print('Matriz 1: \\n', matriz_1)\n",
        "print('\\nMatriz 2: \\n',matriz_2)"
      ],
      "execution_count": null,
      "outputs": [
        {
          "output_type": "stream",
          "text": [
            "Matriz 1: \n",
            " [[1. 2.]\n",
            " [3. 4.]]\n",
            "\n",
            "Matriz 2: \n",
            " [[5. 6.]\n",
            " [7. 8.]]\n"
          ],
          "name": "stdout"
        }
      ]
    },
    {
      "cell_type": "code",
      "metadata": {
        "id": "OQvMUJvnPZuS",
        "colab": {
          "base_uri": "https://localhost:8080/",
          "height": 51
        },
        "outputId": "fc750467-2342-433b-dd41-1dcdf6097d33"
      },
      "source": [
        "# somando as matrizes\n",
        "matriz_soma = np.add(matriz_1 , matriz_2)\n",
        "matriz_soma"
      ],
      "execution_count": null,
      "outputs": [
        {
          "output_type": "execute_result",
          "data": {
            "text/plain": [
              "array([[ 6.,  8.],\n",
              "       [10., 12.]])"
            ]
          },
          "metadata": {
            "tags": []
          },
          "execution_count": 26
        }
      ]
    },
    {
      "cell_type": "code",
      "metadata": {
        "id": "5aRA3J_4s2C2",
        "colab": {
          "base_uri": "https://localhost:8080/",
          "height": 51
        },
        "outputId": "2d18c4aa-b547-46b6-e9b0-900eac319a39"
      },
      "source": [
        "# subtraindo as matrizes\n",
        "matriz_sub = np.subtract(matriz_1 , matriz_2)\n",
        "matriz_sub"
      ],
      "execution_count": null,
      "outputs": [
        {
          "output_type": "execute_result",
          "data": {
            "text/plain": [
              "array([[-4., -4.],\n",
              "       [-4., -4.]])"
            ]
          },
          "metadata": {
            "tags": []
          },
          "execution_count": 27
        }
      ]
    },
    {
      "cell_type": "code",
      "metadata": {
        "id": "1nCE0OIos2hV",
        "colab": {
          "base_uri": "https://localhost:8080/",
          "height": 51
        },
        "outputId": "8f0fb81b-495b-4665-d2f7-465a575ad675"
      },
      "source": [
        "# multiplicando os elementos das matrizes\n",
        "matriz_mult = np.multiply(matriz_1 , matriz_2)\n",
        "matriz_mult"
      ],
      "execution_count": null,
      "outputs": [
        {
          "output_type": "execute_result",
          "data": {
            "text/plain": [
              "array([[ 5., 12.],\n",
              "       [21., 32.]])"
            ]
          },
          "metadata": {
            "tags": []
          },
          "execution_count": 31
        }
      ]
    },
    {
      "cell_type": "code",
      "metadata": {
        "id": "0mvUk4FPs2TR",
        "colab": {
          "base_uri": "https://localhost:8080/",
          "height": 51
        },
        "outputId": "b6f1c3cd-f425-42ce-8ef0-bb1ccb26490c"
      },
      "source": [
        "# dividindo os elementos das matrizes\n",
        "matriz_div = np.divide(matriz_1 , matriz_2)\n",
        "matriz_div"
      ],
      "execution_count": null,
      "outputs": [
        {
          "output_type": "execute_result",
          "data": {
            "text/plain": [
              "array([[0.2       , 0.33333333],\n",
              "       [0.42857143, 0.5       ]])"
            ]
          },
          "metadata": {
            "tags": []
          },
          "execution_count": 33
        }
      ]
    },
    {
      "cell_type": "code",
      "metadata": {
        "id": "CE6QMOtxQrb4",
        "colab": {
          "base_uri": "https://localhost:8080/",
          "height": 51
        },
        "outputId": "efbe474a-f620-47ff-bcd2-9e114a1ba4bf"
      },
      "source": [
        "# multiplicando as matrizes (2x2) x (2x2)\n",
        "matriz_dot = np.dot(matriz_1 , matriz_2)\n",
        "matriz_dot"
      ],
      "execution_count": null,
      "outputs": [
        {
          "output_type": "execute_result",
          "data": {
            "text/plain": [
              "array([[19., 22.],\n",
              "       [43., 50.]])"
            ]
          },
          "metadata": {
            "tags": []
          },
          "execution_count": 34
        }
      ]
    },
    {
      "cell_type": "code",
      "metadata": {
        "id": "9J4mX-RNQ1j8",
        "colab": {
          "base_uri": "https://localhost:8080/",
          "height": 51
        },
        "outputId": "d0115419-ac60-4ef8-e4db-2b434c04bec1"
      },
      "source": [
        "# multiplicando as matrizes (2x2) x (2x1)\n",
        "matriz_linha = np.array([1, 2])\n",
        "vetor = matriz_linha.reshape(2,1)\n",
        "matriz_dot_2x1 = np.dot(matriz_1 , vetor)\n",
        "matriz_dot_2x1"
      ],
      "execution_count": null,
      "outputs": [
        {
          "output_type": "execute_result",
          "data": {
            "text/plain": [
              "array([[ 5.],\n",
              "       [11.]])"
            ]
          },
          "metadata": {
            "tags": []
          },
          "execution_count": 35
        }
      ]
    },
    {
      "cell_type": "code",
      "metadata": {
        "id": "KqSUT9PZs130",
        "colab": {
          "base_uri": "https://localhost:8080/",
          "height": 214
        },
        "outputId": "e7eea20b-e6de-4fba-cd3c-3f29da38622f"
      },
      "source": [
        "# multiplicação contrária\n",
        "np.dot(vetor , matriz_1)"
      ],
      "execution_count": null,
      "outputs": [
        {
          "output_type": "error",
          "ename": "ValueError",
          "evalue": "ignored",
          "traceback": [
            "\u001b[0;31m---------------------------------------------------------------------------\u001b[0m",
            "\u001b[0;31mValueError\u001b[0m                                Traceback (most recent call last)",
            "\u001b[0;32m<ipython-input-36-4a2a15e02a60>\u001b[0m in \u001b[0;36m<module>\u001b[0;34m()\u001b[0m\n\u001b[1;32m      1\u001b[0m \u001b[0;31m# multiplicação contrária\u001b[0m\u001b[0;34m\u001b[0m\u001b[0;34m\u001b[0m\u001b[0;34m\u001b[0m\u001b[0m\n\u001b[0;32m----> 2\u001b[0;31m \u001b[0mnp\u001b[0m\u001b[0;34m.\u001b[0m\u001b[0mdot\u001b[0m\u001b[0;34m(\u001b[0m\u001b[0mvetor\u001b[0m \u001b[0;34m,\u001b[0m \u001b[0mmatriz_1\u001b[0m\u001b[0;34m)\u001b[0m\u001b[0;34m\u001b[0m\u001b[0;34m\u001b[0m\u001b[0m\n\u001b[0m",
            "\u001b[0;32m<__array_function__ internals>\u001b[0m in \u001b[0;36mdot\u001b[0;34m(*args, **kwargs)\u001b[0m\n",
            "\u001b[0;31mValueError\u001b[0m: shapes (2,1) and (2,2) not aligned: 1 (dim 1) != 2 (dim 0)"
          ]
        }
      ]
    },
    {
      "cell_type": "code",
      "metadata": {
        "id": "FbKZcVHjs1Yr",
        "colab": {
          "base_uri": "https://localhost:8080/",
          "height": 51
        },
        "outputId": "c47c06f2-3e1c-46ce-d510-adc9a51e8bdb"
      },
      "source": [
        "# operações dentro da matriz\n",
        "matriz = np.array([[1,2],[3,4]])\n",
        "matriz"
      ],
      "execution_count": null,
      "outputs": [
        {
          "output_type": "execute_result",
          "data": {
            "text/plain": [
              "array([[1, 2],\n",
              "       [3, 4]])"
            ]
          },
          "metadata": {
            "tags": []
          },
          "execution_count": 37
        }
      ]
    },
    {
      "cell_type": "code",
      "metadata": {
        "id": "1YpcJTi9RmnG",
        "colab": {
          "base_uri": "https://localhost:8080/",
          "height": 34
        },
        "outputId": "b1816e60-80f2-4e42-fde6-0421fbc6d02a"
      },
      "source": [
        "# somando todos os elementos\n",
        "np.sum(matriz)"
      ],
      "execution_count": null,
      "outputs": [
        {
          "output_type": "execute_result",
          "data": {
            "text/plain": [
              "10"
            ]
          },
          "metadata": {
            "tags": []
          },
          "execution_count": 38
        }
      ]
    },
    {
      "cell_type": "code",
      "metadata": {
        "id": "KV37YSkdRmL1",
        "colab": {
          "base_uri": "https://localhost:8080/",
          "height": 34
        },
        "outputId": "6a6534b8-765a-436a-aa35-094105766cf6"
      },
      "source": [
        "# somando as linhas\n",
        "np.sum(matriz, axis=0)"
      ],
      "execution_count": null,
      "outputs": [
        {
          "output_type": "execute_result",
          "data": {
            "text/plain": [
              "array([4, 6])"
            ]
          },
          "metadata": {
            "tags": []
          },
          "execution_count": 39
        }
      ]
    },
    {
      "cell_type": "code",
      "metadata": {
        "id": "rcwae3HiRmCb",
        "colab": {
          "base_uri": "https://localhost:8080/",
          "height": 34
        },
        "outputId": "6c598eee-309a-4c0e-aa18-8e916a916b40"
      },
      "source": [
        "# somando as colunas\n",
        "np.sum(matriz, axis=1)"
      ],
      "execution_count": null,
      "outputs": [
        {
          "output_type": "execute_result",
          "data": {
            "text/plain": [
              "array([3, 7])"
            ]
          },
          "metadata": {
            "tags": []
          },
          "execution_count": 41
        }
      ]
    },
    {
      "cell_type": "markdown",
      "metadata": {
        "id": "CntH8uoYSGoW"
      },
      "source": [
        "#### Trasposta, inversa e solução de equações"
      ]
    },
    {
      "cell_type": "code",
      "metadata": {
        "id": "sct1TUOzTSE7",
        "colab": {
          "base_uri": "https://localhost:8080/",
          "height": 51
        },
        "outputId": "3dfc62b7-e322-408f-eca5-ba7f7196da6d"
      },
      "source": [
        "# observando o objeto matriz\n",
        "matriz"
      ],
      "execution_count": null,
      "outputs": [
        {
          "output_type": "execute_result",
          "data": {
            "text/plain": [
              "array([[1, 2],\n",
              "       [3, 4]])"
            ]
          },
          "metadata": {
            "tags": []
          },
          "execution_count": 42
        }
      ]
    },
    {
      "cell_type": "code",
      "metadata": {
        "id": "TMMomLouTVkw",
        "colab": {
          "base_uri": "https://localhost:8080/",
          "height": 51
        },
        "outputId": "26c7c4d9-d8f3-4d25-a4a3-109174475383"
      },
      "source": [
        "# obtendo a transposta\n",
        "matriz.T"
      ],
      "execution_count": null,
      "outputs": [
        {
          "output_type": "execute_result",
          "data": {
            "text/plain": [
              "array([[1, 3],\n",
              "       [2, 4]])"
            ]
          },
          "metadata": {
            "tags": []
          },
          "execution_count": 43
        }
      ]
    },
    {
      "cell_type": "code",
      "metadata": {
        "id": "KNqhYiB6Tjab",
        "colab": {
          "base_uri": "https://localhost:8080/",
          "height": 51
        },
        "outputId": "a113bd21-e3d4-4ae4-cd81-484c24a67008"
      },
      "source": [
        "# obtendo a inversa\n",
        "np.linalg.inv(matriz)"
      ],
      "execution_count": null,
      "outputs": [
        {
          "output_type": "execute_result",
          "data": {
            "text/plain": [
              "array([[-2. ,  1. ],\n",
              "       [ 1.5, -0.5]])"
            ]
          },
          "metadata": {
            "tags": []
          },
          "execution_count": 44
        }
      ]
    },
    {
      "cell_type": "markdown",
      "metadata": {
        "id": "B0NLYvpRUESs"
      },
      "source": [
        "Resolvendo o sistema de equações:\n",
        "\n",
        "\\begin{equation}\n",
        "3x_{0} + x_{1} = 9 \\\\\n",
        "x_{0} + 2x_{1} = 8\n",
        "\\end{equation}"
      ]
    },
    {
      "cell_type": "code",
      "metadata": {
        "id": "tNlbhUhITx4E",
        "colab": {
          "base_uri": "https://localhost:8080/",
          "height": 51
        },
        "outputId": "13fd063a-1e4d-4f6f-f97a-0ffe2cf473a4"
      },
      "source": [
        "# criando a matriz das equações\n",
        "equacoes = np.array([[3, 1], [1, 2]])\n",
        "equacoes"
      ],
      "execution_count": null,
      "outputs": [
        {
          "output_type": "execute_result",
          "data": {
            "text/plain": [
              "array([[3, 1],\n",
              "       [1, 2]])"
            ]
          },
          "metadata": {
            "tags": []
          },
          "execution_count": 47
        }
      ]
    },
    {
      "cell_type": "code",
      "metadata": {
        "id": "VLmw1tcyUzU5",
        "colab": {
          "base_uri": "https://localhost:8080/",
          "height": 51
        },
        "outputId": "69949613-3eef-4a91-8ae9-10558efcc60b"
      },
      "source": [
        "# criando o vetor das igualdades\n",
        "igualdade = np.array([[9], [8]])\n",
        "igualdade"
      ],
      "execution_count": null,
      "outputs": [
        {
          "output_type": "execute_result",
          "data": {
            "text/plain": [
              "array([[9],\n",
              "       [8]])"
            ]
          },
          "metadata": {
            "tags": []
          },
          "execution_count": 48
        }
      ]
    },
    {
      "cell_type": "code",
      "metadata": {
        "id": "CFISwO4kVBHT",
        "colab": {
          "base_uri": "https://localhost:8080/",
          "height": 51
        },
        "outputId": "1b73313d-4741-4a34-e657-2c89d12db487"
      },
      "source": [
        "# obtendo x0 e x1\n",
        "solucao = np.linalg.solve(equacoes, igualdade)\n",
        "solucao"
      ],
      "execution_count": null,
      "outputs": [
        {
          "output_type": "execute_result",
          "data": {
            "text/plain": [
              "array([[2.],\n",
              "       [3.]])"
            ]
          },
          "metadata": {
            "tags": []
          },
          "execution_count": 49
        }
      ]
    },
    {
      "cell_type": "code",
      "metadata": {
        "id": "LHs-_rTKVLsf",
        "colab": {
          "base_uri": "https://localhost:8080/",
          "height": 51
        },
        "outputId": "5cb6a839-7a53-4dbb-8189-78bb60798bf9"
      },
      "source": [
        "# checando o resultado\n",
        "np.dot(equacoes, solucao)"
      ],
      "execution_count": null,
      "outputs": [
        {
          "output_type": "execute_result",
          "data": {
            "text/plain": [
              "array([[9.],\n",
              "       [8.]])"
            ]
          },
          "metadata": {
            "tags": []
          },
          "execution_count": 50
        }
      ]
    },
    {
      "cell_type": "markdown",
      "metadata": {
        "id": "yJlnrrvCxIaC"
      },
      "source": [
        "---\n",
        "\n",
        "### Pacote sidrapy\n",
        "\n",
        "O pacote `sidrapy` disponibiliza uma interface de consulta aos dados da API do Sidra, disponibilizado pelo IBGE. Basicamente, a função implementada no pacote envia uma requisição a API do Sidra, que coleta e envia os dados que foram requisitados.\n",
        "\n",
        "O IBGE disponibiliza dois links muito úteis em caso de dúvidas.\n",
        " * [Link 1](http://api.sidra.ibge.gov.br/home/ajuda).\n",
        " * [Link 2](http://api.sidra.ibge.gov.br/).\n",
        "\n",
        "No primeiro link é possível obter exemplos de como fazer a requisição por meio da API e no segundo link é possível obter os parâmetros necessários de acordo com a tabela que se deseja pesquisar.\n",
        "\n",
        "Antes de usar o pacote sidrapy é necessário instalá-lo e posteriormente importá-lo."
      ]
    },
    {
      "cell_type": "code",
      "metadata": {
        "id": "byPzgQwsxMP-",
        "colab": {
          "base_uri": "https://localhost:8080/",
          "height": 255
        },
        "outputId": "fc480ad0-2d46-4886-f9b1-e2705d3c2bf3"
      },
      "source": [
        "# instalação e importação do sidrapy\n",
        "!pip install sidrapy"
      ],
      "execution_count": null,
      "outputs": [
        {
          "output_type": "stream",
          "text": [
            "Collecting sidrapy\n",
            "  Downloading https://files.pythonhosted.org/packages/7a/6c/a08e39aed11a166c2d3db6a224b649c5807e7a8828e8e7cf63e0397f92a5/sidrapy-0.1.1-py3-none-any.whl\n",
            "Requirement already satisfied: pandas in /usr/local/lib/python3.6/dist-packages (from sidrapy) (1.0.5)\n",
            "Requirement already satisfied: requests in /usr/local/lib/python3.6/dist-packages (from sidrapy) (2.23.0)\n",
            "Requirement already satisfied: numpy>=1.13.3 in /usr/local/lib/python3.6/dist-packages (from pandas->sidrapy) (1.18.5)\n",
            "Requirement already satisfied: pytz>=2017.2 in /usr/local/lib/python3.6/dist-packages (from pandas->sidrapy) (2018.9)\n",
            "Requirement already satisfied: python-dateutil>=2.6.1 in /usr/local/lib/python3.6/dist-packages (from pandas->sidrapy) (2.8.1)\n",
            "Requirement already satisfied: idna<3,>=2.5 in /usr/local/lib/python3.6/dist-packages (from requests->sidrapy) (2.10)\n",
            "Requirement already satisfied: certifi>=2017.4.17 in /usr/local/lib/python3.6/dist-packages (from requests->sidrapy) (2020.6.20)\n",
            "Requirement already satisfied: urllib3!=1.25.0,!=1.25.1,<1.26,>=1.21.1 in /usr/local/lib/python3.6/dist-packages (from requests->sidrapy) (1.24.3)\n",
            "Requirement already satisfied: chardet<4,>=3.0.2 in /usr/local/lib/python3.6/dist-packages (from requests->sidrapy) (3.0.4)\n",
            "Requirement already satisfied: six>=1.5 in /usr/local/lib/python3.6/dist-packages (from python-dateutil>=2.6.1->pandas->sidrapy) (1.12.0)\n",
            "Installing collected packages: sidrapy\n",
            "Successfully installed sidrapy-0.1.1\n"
          ],
          "name": "stdout"
        }
      ]
    },
    {
      "cell_type": "code",
      "metadata": {
        "id": "Q5HsCWNs1Da0"
      },
      "source": [
        "# importação do pacote\n",
        "import sidrapy"
      ],
      "execution_count": null,
      "outputs": []
    },
    {
      "cell_type": "markdown",
      "metadata": {
        "id": "Jvunzd751H4I"
      },
      "source": [
        "Como exemplo, vamos coletar as informações do Índice Nacional de Preços ao consumidor Amplo, IPCA.\n",
        "\n",
        "O primeiro passo é saber o número da tabela. Para isso, basta acessar o site do Sidra ([link](https://sidra.ibge.gov.br/home/ipca/brasil)) e selecionar **IPCA** e depois selecionar o ícone de listas, conforma a imagem abaixo.\n",
        "\n",
        "<img src = 'https://www.dropbox.com/s/s7v2wotfb3xwk8s/sidra1.png?dl=1'>\n",
        "\n",
        "\n",
        "Ao fazer isso irá aparecer uma lista com as tabelas disponíveis, os respectivos números, nomes, períodos e territórios de abrangência.\n",
        "\n",
        "<img src = 'https://www.dropbox.com/s/xpo43yfenepee06/sidra2.png?dl=1'>\n",
        "\n",
        "Vamos utilizar como exemplo a tabela 7061 com os índices do IPCA dessazonalizado. Agora já com o número da tabela, devemos acessar o site de consulta da API do Sidra ([link 2](http://api.sidra.ibge.gov.br/)) para obtermos os parâmetros dessa série em particular, conforma mostra a imagem abaixo.\n",
        "\n",
        "<img src = 'https://www.dropbox.com/s/a6p2k7zl9ayy9a3/sidra3.png?dl=1'>\n",
        "\n",
        "Após clicar em **\"Descrever\"**, abre-se uma página com os parâmetros da tabela pesquisada.\n",
        "\n",
        "<img src = 'https://www.dropbox.com/s/ggedpkhicxsf84i/sidra4.png?dl=1'>\n",
        "\n",
        "São esses parâmetros que devemos passar na função do pacote sidrapy!\n",
        "\n",
        "Como primeiro exemplo, vamos obter os índices gerais da variação mensal (%) do IPCA dessazonalizado. Então de acordo com a figura acima devemos passar os seguintes parâmetros na função **get_table** do pacote sidrapy:\n",
        "  * Tabela: **7061**.\n",
        "  * Variável: **306**.\n",
        "  * Geral, grupo, subgrupo, item e subitem (315): **7169**.\n",
        "\n",
        "\n",
        "\n"
      ]
    },
    {
      "cell_type": "code",
      "metadata": {
        "id": "WtmmXAR7CDm0",
        "colab": {
          "base_uri": "https://localhost:8080/",
          "height": 180
        },
        "outputId": "a1c11241-4470-4d3f-983b-a46e4770bb59"
      },
      "source": [
        "# obtendo os índices\n",
        "ipca = sidrapy.get_table(table_code='7061', variable='306',classification='315/7169')"
      ],
      "execution_count": null,
      "outputs": [
        {
          "output_type": "error",
          "ename": "TypeError",
          "evalue": "ignored",
          "traceback": [
            "\u001b[0;31m---------------------------------------------------------------------------\u001b[0m",
            "\u001b[0;31mTypeError\u001b[0m                                 Traceback (most recent call last)",
            "\u001b[0;32m<ipython-input-3-3b48c5d8e124>\u001b[0m in \u001b[0;36m<module>\u001b[0;34m()\u001b[0m\n\u001b[1;32m      1\u001b[0m \u001b[0;31m# obtendo os índices\u001b[0m\u001b[0;34m\u001b[0m\u001b[0;34m\u001b[0m\u001b[0;34m\u001b[0m\u001b[0m\n\u001b[0;32m----> 2\u001b[0;31m \u001b[0mipca\u001b[0m \u001b[0;34m=\u001b[0m \u001b[0msidrapy\u001b[0m\u001b[0;34m.\u001b[0m\u001b[0mget_table\u001b[0m\u001b[0;34m(\u001b[0m\u001b[0mtable_code\u001b[0m\u001b[0;34m=\u001b[0m\u001b[0;34m'7061'\u001b[0m\u001b[0;34m,\u001b[0m \u001b[0mvariable\u001b[0m\u001b[0;34m=\u001b[0m\u001b[0;34m'306'\u001b[0m\u001b[0;34m,\u001b[0m\u001b[0mclassification\u001b[0m\u001b[0;34m=\u001b[0m\u001b[0;34m'315/7169'\u001b[0m\u001b[0;34m)\u001b[0m\u001b[0;34m\u001b[0m\u001b[0;34m\u001b[0m\u001b[0m\n\u001b[0m",
            "\u001b[0;31mTypeError\u001b[0m: get_table() missing 2 required positional arguments: 'territorial_level' and 'ibge_territorial_code'"
          ]
        }
      ]
    },
    {
      "cell_type": "markdown",
      "metadata": {
        "id": "V0z-dmTjCGyf"
      },
      "source": [
        "De acordo com a mensagem de erro é necessário passar mais dois parâmetros na função: **territorial_level** e **ibge_territorial_code**. Essas duas informações podem ser também obtidas na página com os parâmetros, exibida acima. Essas informações podem ser visualizadas em 'Níveis Territoriais', conforme mostra a imagem abaixo:\n",
        "\n",
        "<img src = 'https://www.dropbox.com/s/b2hcn4xj7ml3ur1/sidra5.png?dl=1'>\n",
        "\n",
        "De acordo como a figura, para a tabela 7061 temos três níveis territorias (*territorial_level*): Brasil, Região Metropolitana e  Município. Para o nível territorial Brasil temos uma unidade territorial (*ibge_territorial_code*), para o nível territorial Região Metropolitana temos 10 unidades territoriais e, por fim, no nível territorial Municípios temos 6 unidades territoriais.\n",
        "\n",
        "Nesse exemplo, queremos somente o valor do IPCA para o nível territoral Brasil, ou seja *territorial_level* igual a 1. Para sabermos o código da unidade territorial (*ibge_territorial_code*) dessa única unidade para o Brasil, temos que clicar na opção **\"Listar unidades territoriais\"**. Ao clicar uma nova janela irá aparecer, de acordo com a figura abaixo.\n",
        "\n",
        "<img src = 'https://www.dropbox.com/s/fesow5z9r5o79wd/sidra6.png?dl=1'>\n",
        "\n",
        "Então para o nível territorial Brasil temos a unidade territorial Brasil com o código igual a 1. Logo, devemos passar os seguintes parâmetros na função `get_table`.\n",
        "\n",
        "  * Tabela: **7061**.\n",
        "  * Variável: **306**.\n",
        "  * Geral, grupo, subgrupo, item e subitem (315): **7169**.\n",
        "  * Nível territorial: **1**.\n",
        "  * Unidade territorial: **1**.\n",
        "\n",
        "\n",
        "\n",
        "\n",
        "\n"
      ]
    },
    {
      "cell_type": "code",
      "metadata": {
        "id": "VJ9aIaC-BMPM"
      },
      "source": [
        "# obtendo os índices\n",
        "ipca = sidrapy.get_table(table_code='7061', variable='306',classification='315/7169', territorial_level='1', ibge_territorial_code='1')"
      ],
      "execution_count": null,
      "outputs": []
    },
    {
      "cell_type": "code",
      "metadata": {
        "id": "eiMxfdbd_QO_",
        "colab": {
          "base_uri": "https://localhost:8080/",
          "height": 162
        },
        "outputId": "32a4fdbb-0125-484c-e1a6-340cc81f22c5"
      },
      "source": [
        "# observando o novo objeto\n",
        "ipca"
      ],
      "execution_count": null,
      "outputs": [
        {
          "output_type": "execute_result",
          "data": {
            "text/html": [
              "<div>\n",
              "<style scoped>\n",
              "    .dataframe tbody tr th:only-of-type {\n",
              "        vertical-align: middle;\n",
              "    }\n",
              "\n",
              "    .dataframe tbody tr th {\n",
              "        vertical-align: top;\n",
              "    }\n",
              "\n",
              "    .dataframe thead th {\n",
              "        text-align: right;\n",
              "    }\n",
              "</style>\n",
              "<table border=\"1\" class=\"dataframe\">\n",
              "  <thead>\n",
              "    <tr style=\"text-align: right;\">\n",
              "      <th></th>\n",
              "      <th>NC</th>\n",
              "      <th>NN</th>\n",
              "      <th>D1C</th>\n",
              "      <th>D1N</th>\n",
              "      <th>D2C</th>\n",
              "      <th>D2N</th>\n",
              "      <th>D3C</th>\n",
              "      <th>D3N</th>\n",
              "      <th>D4C</th>\n",
              "      <th>D4N</th>\n",
              "      <th>MC</th>\n",
              "      <th>MN</th>\n",
              "      <th>V</th>\n",
              "    </tr>\n",
              "  </thead>\n",
              "  <tbody>\n",
              "    <tr>\n",
              "      <th>0</th>\n",
              "      <td>Nível Territorial (Código)</td>\n",
              "      <td>Nível Territorial</td>\n",
              "      <td>Brasil (Código)</td>\n",
              "      <td>Brasil</td>\n",
              "      <td>Variável (Código)</td>\n",
              "      <td>Variável</td>\n",
              "      <td>Geral, grupo, subgrupo, item e subitem (Código)</td>\n",
              "      <td>Geral, grupo, subgrupo, item e subitem</td>\n",
              "      <td>Mês (Código)</td>\n",
              "      <td>Mês</td>\n",
              "      <td>Unidade de Medida (Código)</td>\n",
              "      <td>Unidade de Medida</td>\n",
              "      <td>Valor</td>\n",
              "    </tr>\n",
              "    <tr>\n",
              "      <th>1</th>\n",
              "      <td>1</td>\n",
              "      <td>Brasil</td>\n",
              "      <td>1</td>\n",
              "      <td>Brasil</td>\n",
              "      <td>306</td>\n",
              "      <td>IPCA dessazonalizado - Variação mensal</td>\n",
              "      <td>7169</td>\n",
              "      <td>Índice geral</td>\n",
              "      <td>202006</td>\n",
              "      <td>junho 2020</td>\n",
              "      <td>2</td>\n",
              "      <td>%</td>\n",
              "      <td>0.31</td>\n",
              "    </tr>\n",
              "  </tbody>\n",
              "</table>\n",
              "</div>"
            ],
            "text/plain": [
              "                           NC                 NN  ...                 MN      V\n",
              "0  Nível Territorial (Código)  Nível Territorial  ...  Unidade de Medida  Valor\n",
              "1                           1             Brasil  ...                  %   0.31\n",
              "\n",
              "[2 rows x 13 columns]"
            ]
          },
          "metadata": {
            "tags": []
          },
          "execution_count": 5
        }
      ]
    },
    {
      "cell_type": "markdown",
      "metadata": {
        "id": "FsyJNSIzcFIU"
      },
      "source": [
        "De acordo com o objeto acima, a variação mensal do índice geral do IPCA dessazonalizado para o Brasil em junho de 2020 foi 0.31%.\n",
        "\n",
        "Por default, a API do IBGE retorna o último valor publicado. Mas é possível obter outros períodos por meio do parâmetro `period`. Por exemplo, se quisermos todos os períodos disponíveis basta definir o parâmetro igual a *'all'*."
      ]
    },
    {
      "cell_type": "code",
      "metadata": {
        "id": "g0ySmm5ZlNAi"
      },
      "source": [
        "# obtendo os índices\n",
        "ipca_all = sidrapy.get_table(table_code='7061', variable='306',classification='315/7169', territorial_level='1', ibge_territorial_code='1',\n",
        "                         period = 'all')"
      ],
      "execution_count": null,
      "outputs": []
    },
    {
      "cell_type": "code",
      "metadata": {
        "id": "fpmR-LdPc1AN",
        "colab": {
          "base_uri": "https://localhost:8080/",
          "height": 402
        },
        "outputId": "5211614f-2a6e-46ab-9a6a-632e1973daf3"
      },
      "source": [
        "# observando o novo objeto\n",
        "ipca_all"
      ],
      "execution_count": null,
      "outputs": [
        {
          "output_type": "execute_result",
          "data": {
            "text/html": [
              "<div>\n",
              "<style scoped>\n",
              "    .dataframe tbody tr th:only-of-type {\n",
              "        vertical-align: middle;\n",
              "    }\n",
              "\n",
              "    .dataframe tbody tr th {\n",
              "        vertical-align: top;\n",
              "    }\n",
              "\n",
              "    .dataframe thead th {\n",
              "        text-align: right;\n",
              "    }\n",
              "</style>\n",
              "<table border=\"1\" class=\"dataframe\">\n",
              "  <thead>\n",
              "    <tr style=\"text-align: right;\">\n",
              "      <th></th>\n",
              "      <th>NC</th>\n",
              "      <th>NN</th>\n",
              "      <th>D1C</th>\n",
              "      <th>D1N</th>\n",
              "      <th>D2C</th>\n",
              "      <th>D2N</th>\n",
              "      <th>D3C</th>\n",
              "      <th>D3N</th>\n",
              "      <th>D4C</th>\n",
              "      <th>D4N</th>\n",
              "      <th>MC</th>\n",
              "      <th>MN</th>\n",
              "      <th>V</th>\n",
              "    </tr>\n",
              "  </thead>\n",
              "  <tbody>\n",
              "    <tr>\n",
              "      <th>0</th>\n",
              "      <td>Nível Territorial (Código)</td>\n",
              "      <td>Nível Territorial</td>\n",
              "      <td>Brasil (Código)</td>\n",
              "      <td>Brasil</td>\n",
              "      <td>Mês (Código)</td>\n",
              "      <td>Mês</td>\n",
              "      <td>Variável (Código)</td>\n",
              "      <td>Variável</td>\n",
              "      <td>Geral, grupo, subgrupo, item e subitem (Código)</td>\n",
              "      <td>Geral, grupo, subgrupo, item e subitem</td>\n",
              "      <td>Unidade de Medida (Código)</td>\n",
              "      <td>Unidade de Medida</td>\n",
              "      <td>Valor</td>\n",
              "    </tr>\n",
              "    <tr>\n",
              "      <th>1</th>\n",
              "      <td>1</td>\n",
              "      <td>Brasil</td>\n",
              "      <td>1</td>\n",
              "      <td>Brasil</td>\n",
              "      <td>202001</td>\n",
              "      <td>janeiro 2020</td>\n",
              "      <td>306</td>\n",
              "      <td>IPCA dessazonalizado - Variação mensal</td>\n",
              "      <td>7169</td>\n",
              "      <td>Índice geral</td>\n",
              "      <td>2</td>\n",
              "      <td>%</td>\n",
              "      <td>0.15</td>\n",
              "    </tr>\n",
              "    <tr>\n",
              "      <th>2</th>\n",
              "      <td>1</td>\n",
              "      <td>Brasil</td>\n",
              "      <td>1</td>\n",
              "      <td>Brasil</td>\n",
              "      <td>202002</td>\n",
              "      <td>fevereiro 2020</td>\n",
              "      <td>306</td>\n",
              "      <td>IPCA dessazonalizado - Variação mensal</td>\n",
              "      <td>7169</td>\n",
              "      <td>Índice geral</td>\n",
              "      <td>2</td>\n",
              "      <td>%</td>\n",
              "      <td>0.26</td>\n",
              "    </tr>\n",
              "    <tr>\n",
              "      <th>3</th>\n",
              "      <td>1</td>\n",
              "      <td>Brasil</td>\n",
              "      <td>1</td>\n",
              "      <td>Brasil</td>\n",
              "      <td>202003</td>\n",
              "      <td>março 2020</td>\n",
              "      <td>306</td>\n",
              "      <td>IPCA dessazonalizado - Variação mensal</td>\n",
              "      <td>7169</td>\n",
              "      <td>Índice geral</td>\n",
              "      <td>2</td>\n",
              "      <td>%</td>\n",
              "      <td>0.01</td>\n",
              "    </tr>\n",
              "    <tr>\n",
              "      <th>4</th>\n",
              "      <td>1</td>\n",
              "      <td>Brasil</td>\n",
              "      <td>1</td>\n",
              "      <td>Brasil</td>\n",
              "      <td>202004</td>\n",
              "      <td>abril 2020</td>\n",
              "      <td>306</td>\n",
              "      <td>IPCA dessazonalizado - Variação mensal</td>\n",
              "      <td>7169</td>\n",
              "      <td>Índice geral</td>\n",
              "      <td>2</td>\n",
              "      <td>%</td>\n",
              "      <td>-0.35</td>\n",
              "    </tr>\n",
              "    <tr>\n",
              "      <th>5</th>\n",
              "      <td>1</td>\n",
              "      <td>Brasil</td>\n",
              "      <td>1</td>\n",
              "      <td>Brasil</td>\n",
              "      <td>202005</td>\n",
              "      <td>maio 2020</td>\n",
              "      <td>306</td>\n",
              "      <td>IPCA dessazonalizado - Variação mensal</td>\n",
              "      <td>7169</td>\n",
              "      <td>Índice geral</td>\n",
              "      <td>2</td>\n",
              "      <td>%</td>\n",
              "      <td>-0.36</td>\n",
              "    </tr>\n",
              "    <tr>\n",
              "      <th>6</th>\n",
              "      <td>1</td>\n",
              "      <td>Brasil</td>\n",
              "      <td>1</td>\n",
              "      <td>Brasil</td>\n",
              "      <td>202006</td>\n",
              "      <td>junho 2020</td>\n",
              "      <td>306</td>\n",
              "      <td>IPCA dessazonalizado - Variação mensal</td>\n",
              "      <td>7169</td>\n",
              "      <td>Índice geral</td>\n",
              "      <td>2</td>\n",
              "      <td>%</td>\n",
              "      <td>0.31</td>\n",
              "    </tr>\n",
              "  </tbody>\n",
              "</table>\n",
              "</div>"
            ],
            "text/plain": [
              "                           NC                 NN  ...                 MN      V\n",
              "0  Nível Territorial (Código)  Nível Territorial  ...  Unidade de Medida  Valor\n",
              "1                           1             Brasil  ...                  %   0.15\n",
              "2                           1             Brasil  ...                  %   0.26\n",
              "3                           1             Brasil  ...                  %   0.01\n",
              "4                           1             Brasil  ...                  %  -0.35\n",
              "5                           1             Brasil  ...                  %  -0.36\n",
              "6                           1             Brasil  ...                  %   0.31\n",
              "\n",
              "[7 rows x 13 columns]"
            ]
          },
          "metadata": {
            "tags": []
          },
          "execution_count": 8
        }
      ]
    },
    {
      "cell_type": "markdown",
      "metadata": {
        "id": "rG1Vui9EdlV1"
      },
      "source": [
        "Se quisermos um período específico, basta definir o parâmetro `period` igual ao ano e mês em questão. Por exemplo, se quisermos o IPCA de abril de 2020, deve-se definir o parâmetro como sendo igual a *'202004'*."
      ]
    },
    {
      "cell_type": "code",
      "metadata": {
        "id": "LFDqtbLsdrWq"
      },
      "source": [
        "# obtendo os índices\n",
        "ipca_abril = sidrapy.get_table(table_code='7061', variable='306',classification='315/7169', territorial_level='1', ibge_territorial_code='1',\n",
        "                         period = '202004')"
      ],
      "execution_count": null,
      "outputs": []
    },
    {
      "cell_type": "code",
      "metadata": {
        "id": "54GZ6HE6d0-7",
        "colab": {
          "base_uri": "https://localhost:8080/",
          "height": 162
        },
        "outputId": "6da11915-58f5-4706-d9a5-71133c27e455"
      },
      "source": [
        "# observando o objeto\n",
        "ipca_abril"
      ],
      "execution_count": null,
      "outputs": [
        {
          "output_type": "execute_result",
          "data": {
            "text/html": [
              "<div>\n",
              "<style scoped>\n",
              "    .dataframe tbody tr th:only-of-type {\n",
              "        vertical-align: middle;\n",
              "    }\n",
              "\n",
              "    .dataframe tbody tr th {\n",
              "        vertical-align: top;\n",
              "    }\n",
              "\n",
              "    .dataframe thead th {\n",
              "        text-align: right;\n",
              "    }\n",
              "</style>\n",
              "<table border=\"1\" class=\"dataframe\">\n",
              "  <thead>\n",
              "    <tr style=\"text-align: right;\">\n",
              "      <th></th>\n",
              "      <th>NC</th>\n",
              "      <th>NN</th>\n",
              "      <th>D1C</th>\n",
              "      <th>D1N</th>\n",
              "      <th>D2C</th>\n",
              "      <th>D2N</th>\n",
              "      <th>D3C</th>\n",
              "      <th>D3N</th>\n",
              "      <th>D4C</th>\n",
              "      <th>D4N</th>\n",
              "      <th>MC</th>\n",
              "      <th>MN</th>\n",
              "      <th>V</th>\n",
              "    </tr>\n",
              "  </thead>\n",
              "  <tbody>\n",
              "    <tr>\n",
              "      <th>0</th>\n",
              "      <td>Nível Territorial (Código)</td>\n",
              "      <td>Nível Territorial</td>\n",
              "      <td>Brasil (Código)</td>\n",
              "      <td>Brasil</td>\n",
              "      <td>Mês (Código)</td>\n",
              "      <td>Mês</td>\n",
              "      <td>Variável (Código)</td>\n",
              "      <td>Variável</td>\n",
              "      <td>Geral, grupo, subgrupo, item e subitem (Código)</td>\n",
              "      <td>Geral, grupo, subgrupo, item e subitem</td>\n",
              "      <td>Unidade de Medida (Código)</td>\n",
              "      <td>Unidade de Medida</td>\n",
              "      <td>Valor</td>\n",
              "    </tr>\n",
              "    <tr>\n",
              "      <th>1</th>\n",
              "      <td>1</td>\n",
              "      <td>Brasil</td>\n",
              "      <td>1</td>\n",
              "      <td>Brasil</td>\n",
              "      <td>202004</td>\n",
              "      <td>abril 2020</td>\n",
              "      <td>306</td>\n",
              "      <td>IPCA dessazonalizado - Variação mensal</td>\n",
              "      <td>7169</td>\n",
              "      <td>Índice geral</td>\n",
              "      <td>2</td>\n",
              "      <td>%</td>\n",
              "      <td>-0.35</td>\n",
              "    </tr>\n",
              "  </tbody>\n",
              "</table>\n",
              "</div>"
            ],
            "text/plain": [
              "                           NC                 NN  ...                 MN      V\n",
              "0  Nível Territorial (Código)  Nível Territorial  ...  Unidade de Medida  Valor\n",
              "1                           1             Brasil  ...                  %  -0.35\n",
              "\n",
              "[2 rows x 13 columns]"
            ]
          },
          "metadata": {
            "tags": []
          },
          "execution_count": 10
        }
      ]
    },
    {
      "cell_type": "markdown",
      "metadata": {
        "id": "CMUzGRRtex1y"
      },
      "source": [
        "Se quisermos as informações agora para o nível territorial de região metropolitana, devemos alterar o parâmetro `territorial_level` para **7** (conforme imagem anterior). Se quisermos o valor para todas as unidades territoriais, podemos definir o parâmetro `ibge_territorial_code` como sendo igual a *'all'*."
      ]
    },
    {
      "cell_type": "code",
      "metadata": {
        "id": "V-v8kkbmd3Ty",
        "colab": {
          "base_uri": "https://localhost:8080/",
          "height": 764
        },
        "outputId": "4d5c4265-5a19-45c5-9db3-8f0bcee17ce4"
      },
      "source": [
        "# obtendo os índices\n",
        "ipca_rm = sidrapy.get_table(table_code='7061', variable='306',classification='315/7169', territorial_level='7', ibge_territorial_code='all')\n",
        "ipca_rm"
      ],
      "execution_count": null,
      "outputs": [
        {
          "output_type": "execute_result",
          "data": {
            "text/html": [
              "<div>\n",
              "<style scoped>\n",
              "    .dataframe tbody tr th:only-of-type {\n",
              "        vertical-align: middle;\n",
              "    }\n",
              "\n",
              "    .dataframe tbody tr th {\n",
              "        vertical-align: top;\n",
              "    }\n",
              "\n",
              "    .dataframe thead th {\n",
              "        text-align: right;\n",
              "    }\n",
              "</style>\n",
              "<table border=\"1\" class=\"dataframe\">\n",
              "  <thead>\n",
              "    <tr style=\"text-align: right;\">\n",
              "      <th></th>\n",
              "      <th>NC</th>\n",
              "      <th>NN</th>\n",
              "      <th>D1C</th>\n",
              "      <th>D1N</th>\n",
              "      <th>D2C</th>\n",
              "      <th>D2N</th>\n",
              "      <th>D3C</th>\n",
              "      <th>D3N</th>\n",
              "      <th>D4C</th>\n",
              "      <th>D4N</th>\n",
              "      <th>MC</th>\n",
              "      <th>MN</th>\n",
              "      <th>V</th>\n",
              "    </tr>\n",
              "  </thead>\n",
              "  <tbody>\n",
              "    <tr>\n",
              "      <th>0</th>\n",
              "      <td>Nível Territorial (Código)</td>\n",
              "      <td>Nível Territorial</td>\n",
              "      <td>Região Metropolitana (Código)</td>\n",
              "      <td>Região Metropolitana</td>\n",
              "      <td>Variável (Código)</td>\n",
              "      <td>Variável</td>\n",
              "      <td>Geral, grupo, subgrupo, item e subitem (Código)</td>\n",
              "      <td>Geral, grupo, subgrupo, item e subitem</td>\n",
              "      <td>Mês (Código)</td>\n",
              "      <td>Mês</td>\n",
              "      <td>Unidade de Medida (Código)</td>\n",
              "      <td>Unidade de Medida</td>\n",
              "      <td>Valor</td>\n",
              "    </tr>\n",
              "    <tr>\n",
              "      <th>1</th>\n",
              "      <td>7</td>\n",
              "      <td>Região Metropolitana</td>\n",
              "      <td>1501</td>\n",
              "      <td>Belém - PA</td>\n",
              "      <td>306</td>\n",
              "      <td>IPCA dessazonalizado - Variação mensal</td>\n",
              "      <td>7169</td>\n",
              "      <td>Índice geral</td>\n",
              "      <td>202006</td>\n",
              "      <td>junho 2020</td>\n",
              "      <td>2</td>\n",
              "      <td>%</td>\n",
              "      <td>-0.01</td>\n",
              "    </tr>\n",
              "    <tr>\n",
              "      <th>2</th>\n",
              "      <td>7</td>\n",
              "      <td>Região Metropolitana</td>\n",
              "      <td>2301</td>\n",
              "      <td>Fortaleza - CE</td>\n",
              "      <td>306</td>\n",
              "      <td>IPCA dessazonalizado - Variação mensal</td>\n",
              "      <td>7169</td>\n",
              "      <td>Índice geral</td>\n",
              "      <td>202006</td>\n",
              "      <td>junho 2020</td>\n",
              "      <td>2</td>\n",
              "      <td>%</td>\n",
              "      <td>0.40</td>\n",
              "    </tr>\n",
              "    <tr>\n",
              "      <th>3</th>\n",
              "      <td>7</td>\n",
              "      <td>Região Metropolitana</td>\n",
              "      <td>2601</td>\n",
              "      <td>Recife - PE</td>\n",
              "      <td>306</td>\n",
              "      <td>IPCA dessazonalizado - Variação mensal</td>\n",
              "      <td>7169</td>\n",
              "      <td>Índice geral</td>\n",
              "      <td>202006</td>\n",
              "      <td>junho 2020</td>\n",
              "      <td>2</td>\n",
              "      <td>%</td>\n",
              "      <td>6.07</td>\n",
              "    </tr>\n",
              "    <tr>\n",
              "      <th>4</th>\n",
              "      <td>7</td>\n",
              "      <td>Região Metropolitana</td>\n",
              "      <td>2901</td>\n",
              "      <td>Salvador - BA</td>\n",
              "      <td>306</td>\n",
              "      <td>IPCA dessazonalizado - Variação mensal</td>\n",
              "      <td>7169</td>\n",
              "      <td>Índice geral</td>\n",
              "      <td>202006</td>\n",
              "      <td>junho 2020</td>\n",
              "      <td>2</td>\n",
              "      <td>%</td>\n",
              "      <td>0.78</td>\n",
              "    </tr>\n",
              "    <tr>\n",
              "      <th>5</th>\n",
              "      <td>7</td>\n",
              "      <td>Região Metropolitana</td>\n",
              "      <td>3101</td>\n",
              "      <td>Belo Horizonte - MG</td>\n",
              "      <td>306</td>\n",
              "      <td>IPCA dessazonalizado - Variação mensal</td>\n",
              "      <td>7169</td>\n",
              "      <td>Índice geral</td>\n",
              "      <td>202006</td>\n",
              "      <td>junho 2020</td>\n",
              "      <td>2</td>\n",
              "      <td>%</td>\n",
              "      <td>0.11</td>\n",
              "    </tr>\n",
              "    <tr>\n",
              "      <th>6</th>\n",
              "      <td>7</td>\n",
              "      <td>Região Metropolitana</td>\n",
              "      <td>3201</td>\n",
              "      <td>Grande Vitória - ES</td>\n",
              "      <td>306</td>\n",
              "      <td>IPCA dessazonalizado - Variação mensal</td>\n",
              "      <td>7169</td>\n",
              "      <td>Índice geral</td>\n",
              "      <td>202006</td>\n",
              "      <td>junho 2020</td>\n",
              "      <td>2</td>\n",
              "      <td>%</td>\n",
              "      <td>0.54</td>\n",
              "    </tr>\n",
              "    <tr>\n",
              "      <th>7</th>\n",
              "      <td>7</td>\n",
              "      <td>Região Metropolitana</td>\n",
              "      <td>3301</td>\n",
              "      <td>Rio de Janeiro - RJ</td>\n",
              "      <td>306</td>\n",
              "      <td>IPCA dessazonalizado - Variação mensal</td>\n",
              "      <td>7169</td>\n",
              "      <td>Índice geral</td>\n",
              "      <td>202006</td>\n",
              "      <td>junho 2020</td>\n",
              "      <td>2</td>\n",
              "      <td>%</td>\n",
              "      <td>0.03</td>\n",
              "    </tr>\n",
              "    <tr>\n",
              "      <th>8</th>\n",
              "      <td>7</td>\n",
              "      <td>Região Metropolitana</td>\n",
              "      <td>3501</td>\n",
              "      <td>São Paulo - SP</td>\n",
              "      <td>306</td>\n",
              "      <td>IPCA dessazonalizado - Variação mensal</td>\n",
              "      <td>7169</td>\n",
              "      <td>Índice geral</td>\n",
              "      <td>202006</td>\n",
              "      <td>junho 2020</td>\n",
              "      <td>2</td>\n",
              "      <td>%</td>\n",
              "      <td>0.34</td>\n",
              "    </tr>\n",
              "    <tr>\n",
              "      <th>9</th>\n",
              "      <td>7</td>\n",
              "      <td>Região Metropolitana</td>\n",
              "      <td>4101</td>\n",
              "      <td>Curitiba - PR</td>\n",
              "      <td>306</td>\n",
              "      <td>IPCA dessazonalizado - Variação mensal</td>\n",
              "      <td>7169</td>\n",
              "      <td>Índice geral</td>\n",
              "      <td>202006</td>\n",
              "      <td>junho 2020</td>\n",
              "      <td>2</td>\n",
              "      <td>%</td>\n",
              "      <td>0.84</td>\n",
              "    </tr>\n",
              "    <tr>\n",
              "      <th>10</th>\n",
              "      <td>7</td>\n",
              "      <td>Região Metropolitana</td>\n",
              "      <td>4301</td>\n",
              "      <td>Porto Alegre - RS</td>\n",
              "      <td>306</td>\n",
              "      <td>IPCA dessazonalizado - Variação mensal</td>\n",
              "      <td>7169</td>\n",
              "      <td>Índice geral</td>\n",
              "      <td>202006</td>\n",
              "      <td>junho 2020</td>\n",
              "      <td>2</td>\n",
              "      <td>%</td>\n",
              "      <td>-0.01</td>\n",
              "    </tr>\n",
              "  </tbody>\n",
              "</table>\n",
              "</div>"
            ],
            "text/plain": [
              "                            NC                    NN  ...                 MN      V\n",
              "0   Nível Territorial (Código)     Nível Territorial  ...  Unidade de Medida  Valor\n",
              "1                            7  Região Metropolitana  ...                  %  -0.01\n",
              "2                            7  Região Metropolitana  ...                  %   0.40\n",
              "3                            7  Região Metropolitana  ...                  %   6.07\n",
              "4                            7  Região Metropolitana  ...                  %   0.78\n",
              "5                            7  Região Metropolitana  ...                  %   0.11\n",
              "6                            7  Região Metropolitana  ...                  %   0.54\n",
              "7                            7  Região Metropolitana  ...                  %   0.03\n",
              "8                            7  Região Metropolitana  ...                  %   0.34\n",
              "9                            7  Região Metropolitana  ...                  %   0.84\n",
              "10                           7  Região Metropolitana  ...                  %  -0.01\n",
              "\n",
              "[11 rows x 13 columns]"
            ]
          },
          "metadata": {
            "tags": []
          },
          "execution_count": 17
        }
      ]
    },
    {
      "cell_type": "markdown",
      "metadata": {
        "id": "1DtZlUhQg0A7"
      },
      "source": [
        "Mas se quisermos somente os índices para as regiões metropolitanas de Belo Horizonte (MG) e São Paulo (SP), podemos definir o parâmetro `ibge_territorial_code` como sendo igual a 3101 (código de BH) e 3501 (código de SP) da seguinte forma *'3101,3501'*.\n",
        "\n",
        "Esses códigos podem ser observados no objeto anterior, mas caso seja necessário, basta clicar em **Listas unidades territoriais** para a região metropolitana.\n",
        "\n",
        "<img src = 'https://www.dropbox.com/s/b2hcn4xj7ml3ur1/sidra5.png?dl=1'>\n",
        "\n",
        "Una nova janela com os códigos irá aparecer.\n",
        "\n",
        "<img src = 'https://www.dropbox.com/s/n7kaclvb8sai2y1/sidra7.png?dl=1'>"
      ]
    },
    {
      "cell_type": "code",
      "metadata": {
        "id": "_3TAPYwJf8Rl",
        "colab": {
          "base_uri": "https://localhost:8080/",
          "height": 244
        },
        "outputId": "29d098c1-a46e-4913-fd7b-830d653190ca"
      },
      "source": [
        "# obtendo os índices\n",
        "ipca_mg_sp = sidrapy.get_table(table_code='7061', variable='306',classification='315/7169', territorial_level='7', ibge_territorial_code='3101,3501')\n",
        "ipca_mg_sp"
      ],
      "execution_count": null,
      "outputs": [
        {
          "output_type": "execute_result",
          "data": {
            "text/html": [
              "<div>\n",
              "<style scoped>\n",
              "    .dataframe tbody tr th:only-of-type {\n",
              "        vertical-align: middle;\n",
              "    }\n",
              "\n",
              "    .dataframe tbody tr th {\n",
              "        vertical-align: top;\n",
              "    }\n",
              "\n",
              "    .dataframe thead th {\n",
              "        text-align: right;\n",
              "    }\n",
              "</style>\n",
              "<table border=\"1\" class=\"dataframe\">\n",
              "  <thead>\n",
              "    <tr style=\"text-align: right;\">\n",
              "      <th></th>\n",
              "      <th>NC</th>\n",
              "      <th>NN</th>\n",
              "      <th>D1C</th>\n",
              "      <th>D1N</th>\n",
              "      <th>D2C</th>\n",
              "      <th>D2N</th>\n",
              "      <th>D3C</th>\n",
              "      <th>D3N</th>\n",
              "      <th>D4C</th>\n",
              "      <th>D4N</th>\n",
              "      <th>MC</th>\n",
              "      <th>MN</th>\n",
              "      <th>V</th>\n",
              "    </tr>\n",
              "  </thead>\n",
              "  <tbody>\n",
              "    <tr>\n",
              "      <th>0</th>\n",
              "      <td>Nível Territorial (Código)</td>\n",
              "      <td>Nível Territorial</td>\n",
              "      <td>Região Metropolitana (Código)</td>\n",
              "      <td>Região Metropolitana</td>\n",
              "      <td>Variável (Código)</td>\n",
              "      <td>Variável</td>\n",
              "      <td>Geral, grupo, subgrupo, item e subitem (Código)</td>\n",
              "      <td>Geral, grupo, subgrupo, item e subitem</td>\n",
              "      <td>Mês (Código)</td>\n",
              "      <td>Mês</td>\n",
              "      <td>Unidade de Medida (Código)</td>\n",
              "      <td>Unidade de Medida</td>\n",
              "      <td>Valor</td>\n",
              "    </tr>\n",
              "    <tr>\n",
              "      <th>1</th>\n",
              "      <td>7</td>\n",
              "      <td>Região Metropolitana</td>\n",
              "      <td>3101</td>\n",
              "      <td>Belo Horizonte (MG)</td>\n",
              "      <td>306</td>\n",
              "      <td>IPCA dessazonalizado - Variação mensal</td>\n",
              "      <td>7169</td>\n",
              "      <td>Índice geral</td>\n",
              "      <td>202006</td>\n",
              "      <td>junho 2020</td>\n",
              "      <td>2</td>\n",
              "      <td>%</td>\n",
              "      <td>0.11</td>\n",
              "    </tr>\n",
              "    <tr>\n",
              "      <th>2</th>\n",
              "      <td>7</td>\n",
              "      <td>Região Metropolitana</td>\n",
              "      <td>3501</td>\n",
              "      <td>São Paulo (SP)</td>\n",
              "      <td>306</td>\n",
              "      <td>IPCA dessazonalizado - Variação mensal</td>\n",
              "      <td>7169</td>\n",
              "      <td>Índice geral</td>\n",
              "      <td>202006</td>\n",
              "      <td>junho 2020</td>\n",
              "      <td>2</td>\n",
              "      <td>%</td>\n",
              "      <td>0.34</td>\n",
              "    </tr>\n",
              "  </tbody>\n",
              "</table>\n",
              "</div>"
            ],
            "text/plain": [
              "                           NC                    NN  ...                 MN      V\n",
              "0  Nível Territorial (Código)     Nível Territorial  ...  Unidade de Medida  Valor\n",
              "1                           7  Região Metropolitana  ...                  %   0.11\n",
              "2                           7  Região Metropolitana  ...                  %   0.34\n",
              "\n",
              "[3 rows x 13 columns]"
            ]
          },
          "metadata": {
            "tags": []
          },
          "execution_count": 16
        }
      ]
    },
    {
      "cell_type": "markdown",
      "metadata": {
        "id": "fVRy-xniji39"
      },
      "source": [
        "Podemos também ao invés de obter o índice geral, obter o IPCA para bens desagregados, como por exemplo para arroz e feijão. Podemos observar na imagem abaixo os códigos.\n",
        "\n",
        "<img src = 'https://www.dropbox.com/s/ggedpkhicxsf84i/sidra4.png?dl=1'>\n",
        "\n",
        "Então no parâmetro `classification` devemos passar os códigos:\n",
        "  * Arroz: **7173**.\n",
        "  * Feijão - mulatinho: **7175**.\n",
        "  * Feijão - preto: **7176**.\n",
        "  * Feijão - macáçar (fradinho): **47617**.\n",
        "  * Feijão - carioca (rajado): **12222**."
      ]
    },
    {
      "cell_type": "code",
      "metadata": {
        "id": "p5UITYGvjh1S",
        "colab": {
          "base_uri": "https://localhost:8080/",
          "height": 354
        },
        "outputId": "5113d543-2b29-4ce3-be97-f922c51a91cc"
      },
      "source": [
        "# obtendo os índices\n",
        "ipca_arroz_feijao = sidrapy.get_table(table_code='7061', variable='306',classification='315/7173,7175,7176,47617,12222',\n",
        "                                      territorial_level='1', ibge_territorial_code='1')\n",
        "ipca_arroz_feijao"
      ],
      "execution_count": null,
      "outputs": [
        {
          "output_type": "execute_result",
          "data": {
            "text/html": [
              "<div>\n",
              "<style scoped>\n",
              "    .dataframe tbody tr th:only-of-type {\n",
              "        vertical-align: middle;\n",
              "    }\n",
              "\n",
              "    .dataframe tbody tr th {\n",
              "        vertical-align: top;\n",
              "    }\n",
              "\n",
              "    .dataframe thead th {\n",
              "        text-align: right;\n",
              "    }\n",
              "</style>\n",
              "<table border=\"1\" class=\"dataframe\">\n",
              "  <thead>\n",
              "    <tr style=\"text-align: right;\">\n",
              "      <th></th>\n",
              "      <th>NC</th>\n",
              "      <th>NN</th>\n",
              "      <th>D1C</th>\n",
              "      <th>D1N</th>\n",
              "      <th>D2C</th>\n",
              "      <th>D2N</th>\n",
              "      <th>D3C</th>\n",
              "      <th>D3N</th>\n",
              "      <th>D4C</th>\n",
              "      <th>D4N</th>\n",
              "      <th>MC</th>\n",
              "      <th>MN</th>\n",
              "      <th>V</th>\n",
              "    </tr>\n",
              "  </thead>\n",
              "  <tbody>\n",
              "    <tr>\n",
              "      <th>0</th>\n",
              "      <td>Nível Territorial (Código)</td>\n",
              "      <td>Nível Territorial</td>\n",
              "      <td>Brasil (Código)</td>\n",
              "      <td>Brasil</td>\n",
              "      <td>Variável (Código)</td>\n",
              "      <td>Variável</td>\n",
              "      <td>Geral, grupo, subgrupo, item e subitem (Código)</td>\n",
              "      <td>Geral, grupo, subgrupo, item e subitem</td>\n",
              "      <td>Mês (Código)</td>\n",
              "      <td>Mês</td>\n",
              "      <td>Unidade de Medida (Código)</td>\n",
              "      <td>Unidade de Medida</td>\n",
              "      <td>Valor</td>\n",
              "    </tr>\n",
              "    <tr>\n",
              "      <th>1</th>\n",
              "      <td>1</td>\n",
              "      <td>Brasil</td>\n",
              "      <td>1</td>\n",
              "      <td>Brasil</td>\n",
              "      <td>306</td>\n",
              "      <td>IPCA dessazonalizado - Variação mensal</td>\n",
              "      <td>7173</td>\n",
              "      <td>1101002.Arroz</td>\n",
              "      <td>202006</td>\n",
              "      <td>junho 2020</td>\n",
              "      <td>2</td>\n",
              "      <td>%</td>\n",
              "      <td>2.56</td>\n",
              "    </tr>\n",
              "    <tr>\n",
              "      <th>2</th>\n",
              "      <td>1</td>\n",
              "      <td>Brasil</td>\n",
              "      <td>1</td>\n",
              "      <td>Brasil</td>\n",
              "      <td>306</td>\n",
              "      <td>IPCA dessazonalizado - Variação mensal</td>\n",
              "      <td>7175</td>\n",
              "      <td>1101051.Feijão - mulatinho</td>\n",
              "      <td>202006</td>\n",
              "      <td>junho 2020</td>\n",
              "      <td>2</td>\n",
              "      <td>%</td>\n",
              "      <td>5.82</td>\n",
              "    </tr>\n",
              "    <tr>\n",
              "      <th>3</th>\n",
              "      <td>1</td>\n",
              "      <td>Brasil</td>\n",
              "      <td>1</td>\n",
              "      <td>Brasil</td>\n",
              "      <td>306</td>\n",
              "      <td>IPCA dessazonalizado - Variação mensal</td>\n",
              "      <td>7176</td>\n",
              "      <td>1101052.Feijão - preto</td>\n",
              "      <td>202006</td>\n",
              "      <td>junho 2020</td>\n",
              "      <td>2</td>\n",
              "      <td>%</td>\n",
              "      <td>6.75</td>\n",
              "    </tr>\n",
              "    <tr>\n",
              "      <th>4</th>\n",
              "      <td>1</td>\n",
              "      <td>Brasil</td>\n",
              "      <td>1</td>\n",
              "      <td>Brasil</td>\n",
              "      <td>306</td>\n",
              "      <td>IPCA dessazonalizado - Variação mensal</td>\n",
              "      <td>47617</td>\n",
              "      <td>1101053.Feijão - macáçar (fradinho)</td>\n",
              "      <td>202006</td>\n",
              "      <td>junho 2020</td>\n",
              "      <td>2</td>\n",
              "      <td>%</td>\n",
              "      <td>2.88</td>\n",
              "    </tr>\n",
              "    <tr>\n",
              "      <th>5</th>\n",
              "      <td>1</td>\n",
              "      <td>Brasil</td>\n",
              "      <td>1</td>\n",
              "      <td>Brasil</td>\n",
              "      <td>306</td>\n",
              "      <td>IPCA dessazonalizado - Variação mensal</td>\n",
              "      <td>12222</td>\n",
              "      <td>1101073.Feijão - carioca (rajado)</td>\n",
              "      <td>202006</td>\n",
              "      <td>junho 2020</td>\n",
              "      <td>2</td>\n",
              "      <td>%</td>\n",
              "      <td>5.08</td>\n",
              "    </tr>\n",
              "  </tbody>\n",
              "</table>\n",
              "</div>"
            ],
            "text/plain": [
              "                           NC                 NN  ...                 MN      V\n",
              "0  Nível Territorial (Código)  Nível Territorial  ...  Unidade de Medida  Valor\n",
              "1                           1             Brasil  ...                  %   2.56\n",
              "2                           1             Brasil  ...                  %   5.82\n",
              "3                           1             Brasil  ...                  %   6.75\n",
              "4                           1             Brasil  ...                  %   2.88\n",
              "5                           1             Brasil  ...                  %   5.08\n",
              "\n",
              "[6 rows x 13 columns]"
            ]
          },
          "metadata": {
            "tags": []
          },
          "execution_count": 18
        }
      ]
    },
    {
      "cell_type": "markdown",
      "metadata": {
        "id": "BW6AVAADlhtY"
      },
      "source": [
        "Para esses mesmos bens, pode ser mais interessante ao invés da variação mensal, usar o acumulado no ano. Segundo a imagem abaixo, o código para o IPCA dessazonalizado acumulado no ano é igual a *307*. Então basta utilizar esse código no parâmetro `variable`.\n",
        "\n",
        "<img src = 'https://www.dropbox.com/s/ggedpkhicxsf84i/sidra4.png?dl=1'>"
      ]
    },
    {
      "cell_type": "code",
      "metadata": {
        "id": "tp5ufIFvl2F-",
        "colab": {
          "base_uri": "https://localhost:8080/",
          "height": 354
        },
        "outputId": "8b258c75-6e13-49b0-b834-6cf3a77bada6"
      },
      "source": [
        "# obtendo os índices\n",
        "ipca_arroz_feijao_acumulado = sidrapy.get_table(table_code='7061', variable='307',classification='315/7173,7175,7176,47617,12222',\n",
        "                                      territorial_level='1', ibge_territorial_code='1')\n",
        "ipca_arroz_feijao_acumulado"
      ],
      "execution_count": null,
      "outputs": [
        {
          "output_type": "execute_result",
          "data": {
            "text/html": [
              "<div>\n",
              "<style scoped>\n",
              "    .dataframe tbody tr th:only-of-type {\n",
              "        vertical-align: middle;\n",
              "    }\n",
              "\n",
              "    .dataframe tbody tr th {\n",
              "        vertical-align: top;\n",
              "    }\n",
              "\n",
              "    .dataframe thead th {\n",
              "        text-align: right;\n",
              "    }\n",
              "</style>\n",
              "<table border=\"1\" class=\"dataframe\">\n",
              "  <thead>\n",
              "    <tr style=\"text-align: right;\">\n",
              "      <th></th>\n",
              "      <th>NC</th>\n",
              "      <th>NN</th>\n",
              "      <th>D1C</th>\n",
              "      <th>D1N</th>\n",
              "      <th>D2C</th>\n",
              "      <th>D2N</th>\n",
              "      <th>D3C</th>\n",
              "      <th>D3N</th>\n",
              "      <th>D4C</th>\n",
              "      <th>D4N</th>\n",
              "      <th>MC</th>\n",
              "      <th>MN</th>\n",
              "      <th>V</th>\n",
              "    </tr>\n",
              "  </thead>\n",
              "  <tbody>\n",
              "    <tr>\n",
              "      <th>0</th>\n",
              "      <td>Nível Territorial (Código)</td>\n",
              "      <td>Nível Territorial</td>\n",
              "      <td>Brasil (Código)</td>\n",
              "      <td>Brasil</td>\n",
              "      <td>Variável (Código)</td>\n",
              "      <td>Variável</td>\n",
              "      <td>Geral, grupo, subgrupo, item e subitem (Código)</td>\n",
              "      <td>Geral, grupo, subgrupo, item e subitem</td>\n",
              "      <td>Mês (Código)</td>\n",
              "      <td>Mês</td>\n",
              "      <td>Unidade de Medida (Código)</td>\n",
              "      <td>Unidade de Medida</td>\n",
              "      <td>Valor</td>\n",
              "    </tr>\n",
              "    <tr>\n",
              "      <th>1</th>\n",
              "      <td>1</td>\n",
              "      <td>Brasil</td>\n",
              "      <td>1</td>\n",
              "      <td>Brasil</td>\n",
              "      <td>307</td>\n",
              "      <td>IPCA dessazonalizado - Variação acumulada no ano</td>\n",
              "      <td>7173</td>\n",
              "      <td>1101002.Arroz</td>\n",
              "      <td>202006</td>\n",
              "      <td>junho 2020</td>\n",
              "      <td>2</td>\n",
              "      <td>%</td>\n",
              "      <td>15.99</td>\n",
              "    </tr>\n",
              "    <tr>\n",
              "      <th>2</th>\n",
              "      <td>1</td>\n",
              "      <td>Brasil</td>\n",
              "      <td>1</td>\n",
              "      <td>Brasil</td>\n",
              "      <td>307</td>\n",
              "      <td>IPCA dessazonalizado - Variação acumulada no ano</td>\n",
              "      <td>7175</td>\n",
              "      <td>1101051.Feijão - mulatinho</td>\n",
              "      <td>202006</td>\n",
              "      <td>junho 2020</td>\n",
              "      <td>2</td>\n",
              "      <td>%</td>\n",
              "      <td>18.52</td>\n",
              "    </tr>\n",
              "    <tr>\n",
              "      <th>3</th>\n",
              "      <td>1</td>\n",
              "      <td>Brasil</td>\n",
              "      <td>1</td>\n",
              "      <td>Brasil</td>\n",
              "      <td>307</td>\n",
              "      <td>IPCA dessazonalizado - Variação acumulada no ano</td>\n",
              "      <td>7176</td>\n",
              "      <td>1101052.Feijão - preto</td>\n",
              "      <td>202006</td>\n",
              "      <td>junho 2020</td>\n",
              "      <td>2</td>\n",
              "      <td>%</td>\n",
              "      <td>27.92</td>\n",
              "    </tr>\n",
              "    <tr>\n",
              "      <th>4</th>\n",
              "      <td>1</td>\n",
              "      <td>Brasil</td>\n",
              "      <td>1</td>\n",
              "      <td>Brasil</td>\n",
              "      <td>307</td>\n",
              "      <td>IPCA dessazonalizado - Variação acumulada no ano</td>\n",
              "      <td>47617</td>\n",
              "      <td>1101053.Feijão - macáçar (fradinho)</td>\n",
              "      <td>202006</td>\n",
              "      <td>junho 2020</td>\n",
              "      <td>2</td>\n",
              "      <td>%</td>\n",
              "      <td>28.10</td>\n",
              "    </tr>\n",
              "    <tr>\n",
              "      <th>5</th>\n",
              "      <td>1</td>\n",
              "      <td>Brasil</td>\n",
              "      <td>1</td>\n",
              "      <td>Brasil</td>\n",
              "      <td>307</td>\n",
              "      <td>IPCA dessazonalizado - Variação acumulada no ano</td>\n",
              "      <td>12222</td>\n",
              "      <td>1101073.Feijão - carioca (rajado)</td>\n",
              "      <td>202006</td>\n",
              "      <td>junho 2020</td>\n",
              "      <td>2</td>\n",
              "      <td>%</td>\n",
              "      <td>22.77</td>\n",
              "    </tr>\n",
              "  </tbody>\n",
              "</table>\n",
              "</div>"
            ],
            "text/plain": [
              "                           NC                 NN  ...                 MN      V\n",
              "0  Nível Territorial (Código)  Nível Territorial  ...  Unidade de Medida  Valor\n",
              "1                           1             Brasil  ...                  %  15.99\n",
              "2                           1             Brasil  ...                  %  18.52\n",
              "3                           1             Brasil  ...                  %  27.92\n",
              "4                           1             Brasil  ...                  %  28.10\n",
              "5                           1             Brasil  ...                  %  22.77\n",
              "\n",
              "[6 rows x 13 columns]"
            ]
          },
          "metadata": {
            "tags": []
          },
          "execution_count": 19
        }
      ]
    },
    {
      "cell_type": "markdown",
      "metadata": {
        "id": "LHVMjRB1mraF"
      },
      "source": [
        "O exemplo utilizado aqui foi para a tabela 7061. Mas a identificação dos parâmetros e códigos é a mesma para qualquer tabela.\n",
        "\n",
        "---"
      ]
    },
    {
      "cell_type": "markdown",
      "metadata": {
        "id": "eNZt5lAvnFcs"
      },
      "source": [
        "#### Exercícios\n",
        "\n",
        "Importar as seguintes tabelas:\n",
        "  * Variação mensal do IPCA dessazonalizado para o município de Brasília (último valor publicado).\n",
        "  * Série histórica do IPCA dessazonalizado com a variação mensal, a partir de janeiro/1998.\n",
        "  * Variação acumulada no ano para 2019 do IPCA.\n",
        "  * População (mil pessoas) por cor ou raça a partir da PNADC trimestral para o último período.\n",
        "  * População (mil pessoas) por cor ou raça a partir da PNADC trimestral para todo período.\n",
        "  * População (mil pessoas) por cor ou raça a partir da PNADC trimestral para o último período em Belo Horizonte/MG.\n",
        "  * Percentual da população branca e preta a partir da PNADC trimestral para todo o período em Belo Horizonte/MG."
      ]
    },
    {
      "cell_type": "code",
      "metadata": {
        "id": "zfrUmauam5kf",
        "colab": {
          "base_uri": "https://localhost:8080/",
          "height": 162
        },
        "outputId": "b34783e9-5c73-4e49-fc51-7728748ce3ef"
      },
      "source": [
        "# Variação mensal do IPCA dessazonalizado para o município de Brasília (último valor publicado)\n",
        "ipca_brasilia = sidrapy.get_table(table_code='7061', variable='306',classification='315/7169',\n",
        "                                      territorial_level='6', ibge_territorial_code='5300108')\n",
        "ipca_brasilia"
      ],
      "execution_count": null,
      "outputs": [
        {
          "output_type": "execute_result",
          "data": {
            "text/html": [
              "<div>\n",
              "<style scoped>\n",
              "    .dataframe tbody tr th:only-of-type {\n",
              "        vertical-align: middle;\n",
              "    }\n",
              "\n",
              "    .dataframe tbody tr th {\n",
              "        vertical-align: top;\n",
              "    }\n",
              "\n",
              "    .dataframe thead th {\n",
              "        text-align: right;\n",
              "    }\n",
              "</style>\n",
              "<table border=\"1\" class=\"dataframe\">\n",
              "  <thead>\n",
              "    <tr style=\"text-align: right;\">\n",
              "      <th></th>\n",
              "      <th>NC</th>\n",
              "      <th>NN</th>\n",
              "      <th>D1C</th>\n",
              "      <th>D1N</th>\n",
              "      <th>D2C</th>\n",
              "      <th>D2N</th>\n",
              "      <th>D3C</th>\n",
              "      <th>D3N</th>\n",
              "      <th>D4C</th>\n",
              "      <th>D4N</th>\n",
              "      <th>MC</th>\n",
              "      <th>MN</th>\n",
              "      <th>V</th>\n",
              "    </tr>\n",
              "  </thead>\n",
              "  <tbody>\n",
              "    <tr>\n",
              "      <th>0</th>\n",
              "      <td>Nível Territorial (Código)</td>\n",
              "      <td>Nível Territorial</td>\n",
              "      <td>Município (Código)</td>\n",
              "      <td>Município</td>\n",
              "      <td>Variável (Código)</td>\n",
              "      <td>Variável</td>\n",
              "      <td>Geral, grupo, subgrupo, item e subitem (Código)</td>\n",
              "      <td>Geral, grupo, subgrupo, item e subitem</td>\n",
              "      <td>Mês (Código)</td>\n",
              "      <td>Mês</td>\n",
              "      <td>Unidade de Medida (Código)</td>\n",
              "      <td>Unidade de Medida</td>\n",
              "      <td>Valor</td>\n",
              "    </tr>\n",
              "    <tr>\n",
              "      <th>1</th>\n",
              "      <td>6</td>\n",
              "      <td>Município</td>\n",
              "      <td>5300108</td>\n",
              "      <td>Brasília (DF)</td>\n",
              "      <td>306</td>\n",
              "      <td>IPCA dessazonalizado - Variação mensal</td>\n",
              "      <td>7169</td>\n",
              "      <td>Índice geral</td>\n",
              "      <td>202006</td>\n",
              "      <td>junho 2020</td>\n",
              "      <td>2</td>\n",
              "      <td>%</td>\n",
              "      <td>0.51</td>\n",
              "    </tr>\n",
              "  </tbody>\n",
              "</table>\n",
              "</div>"
            ],
            "text/plain": [
              "                           NC                 NN  ...                 MN      V\n",
              "0  Nível Territorial (Código)  Nível Territorial  ...  Unidade de Medida  Valor\n",
              "1                           6          Município  ...                  %   0.51\n",
              "\n",
              "[2 rows x 13 columns]"
            ]
          },
          "metadata": {
            "tags": []
          },
          "execution_count": 21
        }
      ]
    },
    {
      "cell_type": "code",
      "metadata": {
        "id": "N5LFrMEUsCbM",
        "colab": {
          "base_uri": "https://localhost:8080/",
          "height": 589
        },
        "outputId": "c452346c-bb32-4e79-b568-986dcb827aac"
      },
      "source": [
        "# Série histórica do IPCA dessazonalizado com a variação mensal, a partir de janeiro/1998\n",
        "ipca_serie_historica = sidrapy.get_table(table_code='118', variable='306',\n",
        "                                      territorial_level='1', ibge_territorial_code='1', period = 'all')\n",
        "ipca_serie_historica"
      ],
      "execution_count": null,
      "outputs": [
        {
          "output_type": "execute_result",
          "data": {
            "text/html": [
              "<div>\n",
              "<style scoped>\n",
              "    .dataframe tbody tr th:only-of-type {\n",
              "        vertical-align: middle;\n",
              "    }\n",
              "\n",
              "    .dataframe tbody tr th {\n",
              "        vertical-align: top;\n",
              "    }\n",
              "\n",
              "    .dataframe thead th {\n",
              "        text-align: right;\n",
              "    }\n",
              "</style>\n",
              "<table border=\"1\" class=\"dataframe\">\n",
              "  <thead>\n",
              "    <tr style=\"text-align: right;\">\n",
              "      <th></th>\n",
              "      <th>NC</th>\n",
              "      <th>NN</th>\n",
              "      <th>D1C</th>\n",
              "      <th>D1N</th>\n",
              "      <th>D2C</th>\n",
              "      <th>D2N</th>\n",
              "      <th>D3C</th>\n",
              "      <th>D3N</th>\n",
              "      <th>MC</th>\n",
              "      <th>MN</th>\n",
              "      <th>V</th>\n",
              "    </tr>\n",
              "  </thead>\n",
              "  <tbody>\n",
              "    <tr>\n",
              "      <th>0</th>\n",
              "      <td>Nível Territorial (Código)</td>\n",
              "      <td>Nível Territorial</td>\n",
              "      <td>Brasil (Código)</td>\n",
              "      <td>Brasil</td>\n",
              "      <td>Mês (Código)</td>\n",
              "      <td>Mês</td>\n",
              "      <td>Variável (Código)</td>\n",
              "      <td>Variável</td>\n",
              "      <td>Unidade de Medida (Código)</td>\n",
              "      <td>Unidade de Medida</td>\n",
              "      <td>Valor</td>\n",
              "    </tr>\n",
              "    <tr>\n",
              "      <th>1</th>\n",
              "      <td>1</td>\n",
              "      <td>Brasil</td>\n",
              "      <td>1</td>\n",
              "      <td>Brasil</td>\n",
              "      <td>199801</td>\n",
              "      <td>janeiro 1998</td>\n",
              "      <td>306</td>\n",
              "      <td>IPCA dessazonalizado - Variação mensal</td>\n",
              "      <td>2</td>\n",
              "      <td>%</td>\n",
              "      <td>0.59</td>\n",
              "    </tr>\n",
              "    <tr>\n",
              "      <th>2</th>\n",
              "      <td>1</td>\n",
              "      <td>Brasil</td>\n",
              "      <td>1</td>\n",
              "      <td>Brasil</td>\n",
              "      <td>199802</td>\n",
              "      <td>fevereiro 1998</td>\n",
              "      <td>306</td>\n",
              "      <td>IPCA dessazonalizado - Variação mensal</td>\n",
              "      <td>2</td>\n",
              "      <td>%</td>\n",
              "      <td>0.44</td>\n",
              "    </tr>\n",
              "    <tr>\n",
              "      <th>3</th>\n",
              "      <td>1</td>\n",
              "      <td>Brasil</td>\n",
              "      <td>1</td>\n",
              "      <td>Brasil</td>\n",
              "      <td>199803</td>\n",
              "      <td>março 1998</td>\n",
              "      <td>306</td>\n",
              "      <td>IPCA dessazonalizado - Variação mensal</td>\n",
              "      <td>2</td>\n",
              "      <td>%</td>\n",
              "      <td>0.28</td>\n",
              "    </tr>\n",
              "    <tr>\n",
              "      <th>4</th>\n",
              "      <td>1</td>\n",
              "      <td>Brasil</td>\n",
              "      <td>1</td>\n",
              "      <td>Brasil</td>\n",
              "      <td>199804</td>\n",
              "      <td>abril 1998</td>\n",
              "      <td>306</td>\n",
              "      <td>IPCA dessazonalizado - Variação mensal</td>\n",
              "      <td>2</td>\n",
              "      <td>%</td>\n",
              "      <td>0.17</td>\n",
              "    </tr>\n",
              "    <tr>\n",
              "      <th>...</th>\n",
              "      <td>...</td>\n",
              "      <td>...</td>\n",
              "      <td>...</td>\n",
              "      <td>...</td>\n",
              "      <td>...</td>\n",
              "      <td>...</td>\n",
              "      <td>...</td>\n",
              "      <td>...</td>\n",
              "      <td>...</td>\n",
              "      <td>...</td>\n",
              "      <td>...</td>\n",
              "    </tr>\n",
              "    <tr>\n",
              "      <th>266</th>\n",
              "      <td>1</td>\n",
              "      <td>Brasil</td>\n",
              "      <td>1</td>\n",
              "      <td>Brasil</td>\n",
              "      <td>202002</td>\n",
              "      <td>fevereiro 2020</td>\n",
              "      <td>306</td>\n",
              "      <td>IPCA dessazonalizado - Variação mensal</td>\n",
              "      <td>2</td>\n",
              "      <td>%</td>\n",
              "      <td>0.26</td>\n",
              "    </tr>\n",
              "    <tr>\n",
              "      <th>267</th>\n",
              "      <td>1</td>\n",
              "      <td>Brasil</td>\n",
              "      <td>1</td>\n",
              "      <td>Brasil</td>\n",
              "      <td>202003</td>\n",
              "      <td>março 2020</td>\n",
              "      <td>306</td>\n",
              "      <td>IPCA dessazonalizado - Variação mensal</td>\n",
              "      <td>2</td>\n",
              "      <td>%</td>\n",
              "      <td>0.01</td>\n",
              "    </tr>\n",
              "    <tr>\n",
              "      <th>268</th>\n",
              "      <td>1</td>\n",
              "      <td>Brasil</td>\n",
              "      <td>1</td>\n",
              "      <td>Brasil</td>\n",
              "      <td>202004</td>\n",
              "      <td>abril 2020</td>\n",
              "      <td>306</td>\n",
              "      <td>IPCA dessazonalizado - Variação mensal</td>\n",
              "      <td>2</td>\n",
              "      <td>%</td>\n",
              "      <td>-0.35</td>\n",
              "    </tr>\n",
              "    <tr>\n",
              "      <th>269</th>\n",
              "      <td>1</td>\n",
              "      <td>Brasil</td>\n",
              "      <td>1</td>\n",
              "      <td>Brasil</td>\n",
              "      <td>202005</td>\n",
              "      <td>maio 2020</td>\n",
              "      <td>306</td>\n",
              "      <td>IPCA dessazonalizado - Variação mensal</td>\n",
              "      <td>2</td>\n",
              "      <td>%</td>\n",
              "      <td>-0.36</td>\n",
              "    </tr>\n",
              "    <tr>\n",
              "      <th>270</th>\n",
              "      <td>1</td>\n",
              "      <td>Brasil</td>\n",
              "      <td>1</td>\n",
              "      <td>Brasil</td>\n",
              "      <td>202006</td>\n",
              "      <td>junho 2020</td>\n",
              "      <td>306</td>\n",
              "      <td>IPCA dessazonalizado - Variação mensal</td>\n",
              "      <td>2</td>\n",
              "      <td>%</td>\n",
              "      <td>0.31</td>\n",
              "    </tr>\n",
              "  </tbody>\n",
              "</table>\n",
              "<p>271 rows × 11 columns</p>\n",
              "</div>"
            ],
            "text/plain": [
              "                             NC                 NN  ...                 MN      V\n",
              "0    Nível Territorial (Código)  Nível Territorial  ...  Unidade de Medida  Valor\n",
              "1                             1             Brasil  ...                  %   0.59\n",
              "2                             1             Brasil  ...                  %   0.44\n",
              "3                             1             Brasil  ...                  %   0.28\n",
              "4                             1             Brasil  ...                  %   0.17\n",
              "..                          ...                ...  ...                ...    ...\n",
              "266                           1             Brasil  ...                  %   0.26\n",
              "267                           1             Brasil  ...                  %   0.01\n",
              "268                           1             Brasil  ...                  %  -0.35\n",
              "269                           1             Brasil  ...                  %  -0.36\n",
              "270                           1             Brasil  ...                  %   0.31\n",
              "\n",
              "[271 rows x 11 columns]"
            ]
          },
          "metadata": {
            "tags": []
          },
          "execution_count": 23
        }
      ]
    },
    {
      "cell_type": "code",
      "metadata": {
        "id": "vRyzb500sp8w",
        "colab": {
          "base_uri": "https://localhost:8080/",
          "height": 673
        },
        "outputId": "51f7f072-e6b5-446a-f686-dda937f163d9"
      },
      "source": [
        "# Variação acumulada no ano para 2019 do IPCA.\n",
        "ipca_acumulado_2019 = sidrapy.get_table(table_code='1737', variable='69',\n",
        "                                      territorial_level='1', ibge_territorial_code='1', period = '201901-201912')\n",
        "ipca_acumulado_2019"
      ],
      "execution_count": null,
      "outputs": [
        {
          "output_type": "execute_result",
          "data": {
            "text/html": [
              "<div>\n",
              "<style scoped>\n",
              "    .dataframe tbody tr th:only-of-type {\n",
              "        vertical-align: middle;\n",
              "    }\n",
              "\n",
              "    .dataframe tbody tr th {\n",
              "        vertical-align: top;\n",
              "    }\n",
              "\n",
              "    .dataframe thead th {\n",
              "        text-align: right;\n",
              "    }\n",
              "</style>\n",
              "<table border=\"1\" class=\"dataframe\">\n",
              "  <thead>\n",
              "    <tr style=\"text-align: right;\">\n",
              "      <th></th>\n",
              "      <th>NC</th>\n",
              "      <th>NN</th>\n",
              "      <th>D1C</th>\n",
              "      <th>D1N</th>\n",
              "      <th>D2C</th>\n",
              "      <th>D2N</th>\n",
              "      <th>D3C</th>\n",
              "      <th>D3N</th>\n",
              "      <th>MC</th>\n",
              "      <th>MN</th>\n",
              "      <th>V</th>\n",
              "    </tr>\n",
              "  </thead>\n",
              "  <tbody>\n",
              "    <tr>\n",
              "      <th>0</th>\n",
              "      <td>Nível Territorial (Código)</td>\n",
              "      <td>Nível Territorial</td>\n",
              "      <td>Brasil (Código)</td>\n",
              "      <td>Brasil</td>\n",
              "      <td>Mês (Código)</td>\n",
              "      <td>Mês</td>\n",
              "      <td>Variável (Código)</td>\n",
              "      <td>Variável</td>\n",
              "      <td>Unidade de Medida (Código)</td>\n",
              "      <td>Unidade de Medida</td>\n",
              "      <td>Valor</td>\n",
              "    </tr>\n",
              "    <tr>\n",
              "      <th>1</th>\n",
              "      <td>1</td>\n",
              "      <td>Brasil</td>\n",
              "      <td>1</td>\n",
              "      <td>Brasil</td>\n",
              "      <td>201901</td>\n",
              "      <td>janeiro 2019</td>\n",
              "      <td>69</td>\n",
              "      <td>IPCA - Variação acumulada no ano</td>\n",
              "      <td>2</td>\n",
              "      <td>%</td>\n",
              "      <td>0.32</td>\n",
              "    </tr>\n",
              "    <tr>\n",
              "      <th>2</th>\n",
              "      <td>1</td>\n",
              "      <td>Brasil</td>\n",
              "      <td>1</td>\n",
              "      <td>Brasil</td>\n",
              "      <td>201902</td>\n",
              "      <td>fevereiro 2019</td>\n",
              "      <td>69</td>\n",
              "      <td>IPCA - Variação acumulada no ano</td>\n",
              "      <td>2</td>\n",
              "      <td>%</td>\n",
              "      <td>0.75</td>\n",
              "    </tr>\n",
              "    <tr>\n",
              "      <th>3</th>\n",
              "      <td>1</td>\n",
              "      <td>Brasil</td>\n",
              "      <td>1</td>\n",
              "      <td>Brasil</td>\n",
              "      <td>201903</td>\n",
              "      <td>março 2019</td>\n",
              "      <td>69</td>\n",
              "      <td>IPCA - Variação acumulada no ano</td>\n",
              "      <td>2</td>\n",
              "      <td>%</td>\n",
              "      <td>1.51</td>\n",
              "    </tr>\n",
              "    <tr>\n",
              "      <th>4</th>\n",
              "      <td>1</td>\n",
              "      <td>Brasil</td>\n",
              "      <td>1</td>\n",
              "      <td>Brasil</td>\n",
              "      <td>201904</td>\n",
              "      <td>abril 2019</td>\n",
              "      <td>69</td>\n",
              "      <td>IPCA - Variação acumulada no ano</td>\n",
              "      <td>2</td>\n",
              "      <td>%</td>\n",
              "      <td>2.09</td>\n",
              "    </tr>\n",
              "    <tr>\n",
              "      <th>5</th>\n",
              "      <td>1</td>\n",
              "      <td>Brasil</td>\n",
              "      <td>1</td>\n",
              "      <td>Brasil</td>\n",
              "      <td>201905</td>\n",
              "      <td>maio 2019</td>\n",
              "      <td>69</td>\n",
              "      <td>IPCA - Variação acumulada no ano</td>\n",
              "      <td>2</td>\n",
              "      <td>%</td>\n",
              "      <td>2.22</td>\n",
              "    </tr>\n",
              "    <tr>\n",
              "      <th>6</th>\n",
              "      <td>1</td>\n",
              "      <td>Brasil</td>\n",
              "      <td>1</td>\n",
              "      <td>Brasil</td>\n",
              "      <td>201906</td>\n",
              "      <td>junho 2019</td>\n",
              "      <td>69</td>\n",
              "      <td>IPCA - Variação acumulada no ano</td>\n",
              "      <td>2</td>\n",
              "      <td>%</td>\n",
              "      <td>2.23</td>\n",
              "    </tr>\n",
              "    <tr>\n",
              "      <th>7</th>\n",
              "      <td>1</td>\n",
              "      <td>Brasil</td>\n",
              "      <td>1</td>\n",
              "      <td>Brasil</td>\n",
              "      <td>201907</td>\n",
              "      <td>julho 2019</td>\n",
              "      <td>69</td>\n",
              "      <td>IPCA - Variação acumulada no ano</td>\n",
              "      <td>2</td>\n",
              "      <td>%</td>\n",
              "      <td>2.42</td>\n",
              "    </tr>\n",
              "    <tr>\n",
              "      <th>8</th>\n",
              "      <td>1</td>\n",
              "      <td>Brasil</td>\n",
              "      <td>1</td>\n",
              "      <td>Brasil</td>\n",
              "      <td>201908</td>\n",
              "      <td>agosto 2019</td>\n",
              "      <td>69</td>\n",
              "      <td>IPCA - Variação acumulada no ano</td>\n",
              "      <td>2</td>\n",
              "      <td>%</td>\n",
              "      <td>2.54</td>\n",
              "    </tr>\n",
              "    <tr>\n",
              "      <th>9</th>\n",
              "      <td>1</td>\n",
              "      <td>Brasil</td>\n",
              "      <td>1</td>\n",
              "      <td>Brasil</td>\n",
              "      <td>201909</td>\n",
              "      <td>setembro 2019</td>\n",
              "      <td>69</td>\n",
              "      <td>IPCA - Variação acumulada no ano</td>\n",
              "      <td>2</td>\n",
              "      <td>%</td>\n",
              "      <td>2.49</td>\n",
              "    </tr>\n",
              "    <tr>\n",
              "      <th>10</th>\n",
              "      <td>1</td>\n",
              "      <td>Brasil</td>\n",
              "      <td>1</td>\n",
              "      <td>Brasil</td>\n",
              "      <td>201910</td>\n",
              "      <td>outubro 2019</td>\n",
              "      <td>69</td>\n",
              "      <td>IPCA - Variação acumulada no ano</td>\n",
              "      <td>2</td>\n",
              "      <td>%</td>\n",
              "      <td>2.60</td>\n",
              "    </tr>\n",
              "    <tr>\n",
              "      <th>11</th>\n",
              "      <td>1</td>\n",
              "      <td>Brasil</td>\n",
              "      <td>1</td>\n",
              "      <td>Brasil</td>\n",
              "      <td>201911</td>\n",
              "      <td>novembro 2019</td>\n",
              "      <td>69</td>\n",
              "      <td>IPCA - Variação acumulada no ano</td>\n",
              "      <td>2</td>\n",
              "      <td>%</td>\n",
              "      <td>3.12</td>\n",
              "    </tr>\n",
              "    <tr>\n",
              "      <th>12</th>\n",
              "      <td>1</td>\n",
              "      <td>Brasil</td>\n",
              "      <td>1</td>\n",
              "      <td>Brasil</td>\n",
              "      <td>201912</td>\n",
              "      <td>dezembro 2019</td>\n",
              "      <td>69</td>\n",
              "      <td>IPCA - Variação acumulada no ano</td>\n",
              "      <td>2</td>\n",
              "      <td>%</td>\n",
              "      <td>4.31</td>\n",
              "    </tr>\n",
              "  </tbody>\n",
              "</table>\n",
              "</div>"
            ],
            "text/plain": [
              "                            NC                 NN  ...                 MN      V\n",
              "0   Nível Territorial (Código)  Nível Territorial  ...  Unidade de Medida  Valor\n",
              "1                            1             Brasil  ...                  %   0.32\n",
              "2                            1             Brasil  ...                  %   0.75\n",
              "3                            1             Brasil  ...                  %   1.51\n",
              "4                            1             Brasil  ...                  %   2.09\n",
              "5                            1             Brasil  ...                  %   2.22\n",
              "6                            1             Brasil  ...                  %   2.23\n",
              "7                            1             Brasil  ...                  %   2.42\n",
              "8                            1             Brasil  ...                  %   2.54\n",
              "9                            1             Brasil  ...                  %   2.49\n",
              "10                           1             Brasil  ...                  %   2.60\n",
              "11                           1             Brasil  ...                  %   3.12\n",
              "12                           1             Brasil  ...                  %   4.31\n",
              "\n",
              "[13 rows x 11 columns]"
            ]
          },
          "metadata": {
            "tags": []
          },
          "execution_count": 25
        }
      ]
    },
    {
      "cell_type": "code",
      "metadata": {
        "id": "8P2kZv7ctciI",
        "colab": {
          "base_uri": "https://localhost:8080/",
          "height": 241
        },
        "outputId": "8653a673-ed3c-4f56-f780-9ec0448ecad8"
      },
      "source": [
        "# População (mil pessoas) por cor ou raça a partir da PNADC trimestral para o último período\n",
        "populacao = sidrapy.get_table(table_code='6403', variable='606',classification='86/2776,2777,2779',\n",
        "                                      territorial_level='1', ibge_territorial_code='1')\n",
        "populacao"
      ],
      "execution_count": null,
      "outputs": [
        {
          "output_type": "execute_result",
          "data": {
            "text/html": [
              "<div>\n",
              "<style scoped>\n",
              "    .dataframe tbody tr th:only-of-type {\n",
              "        vertical-align: middle;\n",
              "    }\n",
              "\n",
              "    .dataframe tbody tr th {\n",
              "        vertical-align: top;\n",
              "    }\n",
              "\n",
              "    .dataframe thead th {\n",
              "        text-align: right;\n",
              "    }\n",
              "</style>\n",
              "<table border=\"1\" class=\"dataframe\">\n",
              "  <thead>\n",
              "    <tr style=\"text-align: right;\">\n",
              "      <th></th>\n",
              "      <th>NC</th>\n",
              "      <th>NN</th>\n",
              "      <th>D1C</th>\n",
              "      <th>D1N</th>\n",
              "      <th>D2C</th>\n",
              "      <th>D2N</th>\n",
              "      <th>D3C</th>\n",
              "      <th>D3N</th>\n",
              "      <th>D4C</th>\n",
              "      <th>D4N</th>\n",
              "      <th>MC</th>\n",
              "      <th>MN</th>\n",
              "      <th>V</th>\n",
              "    </tr>\n",
              "  </thead>\n",
              "  <tbody>\n",
              "    <tr>\n",
              "      <th>0</th>\n",
              "      <td>Nível Territorial (Código)</td>\n",
              "      <td>Nível Territorial</td>\n",
              "      <td>Brasil (Código)</td>\n",
              "      <td>Brasil</td>\n",
              "      <td>Variável (Código)</td>\n",
              "      <td>Variável</td>\n",
              "      <td>Cor ou raça (Código)</td>\n",
              "      <td>Cor ou raça</td>\n",
              "      <td>Trimestre (Código)</td>\n",
              "      <td>Trimestre</td>\n",
              "      <td>Unidade de Medida (Código)</td>\n",
              "      <td>Unidade de Medida</td>\n",
              "      <td>Valor</td>\n",
              "    </tr>\n",
              "    <tr>\n",
              "      <th>1</th>\n",
              "      <td>1</td>\n",
              "      <td>Brasil</td>\n",
              "      <td>1</td>\n",
              "      <td>Brasil</td>\n",
              "      <td>606</td>\n",
              "      <td>População</td>\n",
              "      <td>2776</td>\n",
              "      <td>Branca</td>\n",
              "      <td>202001</td>\n",
              "      <td>1º trimestre 2020</td>\n",
              "      <td>1572</td>\n",
              "      <td>Mil pessoas</td>\n",
              "      <td>89856</td>\n",
              "    </tr>\n",
              "    <tr>\n",
              "      <th>2</th>\n",
              "      <td>1</td>\n",
              "      <td>Brasil</td>\n",
              "      <td>1</td>\n",
              "      <td>Brasil</td>\n",
              "      <td>606</td>\n",
              "      <td>População</td>\n",
              "      <td>2777</td>\n",
              "      <td>Preta</td>\n",
              "      <td>202001</td>\n",
              "      <td>1º trimestre 2020</td>\n",
              "      <td>1572</td>\n",
              "      <td>Mil pessoas</td>\n",
              "      <td>19339</td>\n",
              "    </tr>\n",
              "    <tr>\n",
              "      <th>3</th>\n",
              "      <td>1</td>\n",
              "      <td>Brasil</td>\n",
              "      <td>1</td>\n",
              "      <td>Brasil</td>\n",
              "      <td>606</td>\n",
              "      <td>População</td>\n",
              "      <td>2779</td>\n",
              "      <td>Parda</td>\n",
              "      <td>202001</td>\n",
              "      <td>1º trimestre 2020</td>\n",
              "      <td>1572</td>\n",
              "      <td>Mil pessoas</td>\n",
              "      <td>99257</td>\n",
              "    </tr>\n",
              "  </tbody>\n",
              "</table>\n",
              "</div>"
            ],
            "text/plain": [
              "                           NC                 NN  ...                 MN      V\n",
              "0  Nível Territorial (Código)  Nível Territorial  ...  Unidade de Medida  Valor\n",
              "1                           1             Brasil  ...        Mil pessoas  89856\n",
              "2                           1             Brasil  ...        Mil pessoas  19339\n",
              "3                           1             Brasil  ...        Mil pessoas  99257\n",
              "\n",
              "[4 rows x 13 columns]"
            ]
          },
          "metadata": {
            "tags": []
          },
          "execution_count": 26
        }
      ]
    },
    {
      "cell_type": "code",
      "metadata": {
        "id": "5FuEQ5fcuxwA",
        "colab": {
          "base_uri": "https://localhost:8080/",
          "height": 589
        },
        "outputId": "e2470a8b-99ec-4f60-f771-78fc63750903"
      },
      "source": [
        "# População (mil pessoas) por cor ou raça a partir da PNADC trimestral para todo período\n",
        "populacao_all = sidrapy.get_table(table_code='6403', variable='606',classification='86/2776,2777,2779',\n",
        "                                      territorial_level='1', ibge_territorial_code='1', period = 'all')\n",
        "populacao_all"
      ],
      "execution_count": null,
      "outputs": [
        {
          "output_type": "execute_result",
          "data": {
            "text/html": [
              "<div>\n",
              "<style scoped>\n",
              "    .dataframe tbody tr th:only-of-type {\n",
              "        vertical-align: middle;\n",
              "    }\n",
              "\n",
              "    .dataframe tbody tr th {\n",
              "        vertical-align: top;\n",
              "    }\n",
              "\n",
              "    .dataframe thead th {\n",
              "        text-align: right;\n",
              "    }\n",
              "</style>\n",
              "<table border=\"1\" class=\"dataframe\">\n",
              "  <thead>\n",
              "    <tr style=\"text-align: right;\">\n",
              "      <th></th>\n",
              "      <th>NC</th>\n",
              "      <th>NN</th>\n",
              "      <th>D1C</th>\n",
              "      <th>D1N</th>\n",
              "      <th>D2C</th>\n",
              "      <th>D2N</th>\n",
              "      <th>D3C</th>\n",
              "      <th>D3N</th>\n",
              "      <th>D4C</th>\n",
              "      <th>D4N</th>\n",
              "      <th>MC</th>\n",
              "      <th>MN</th>\n",
              "      <th>V</th>\n",
              "    </tr>\n",
              "  </thead>\n",
              "  <tbody>\n",
              "    <tr>\n",
              "      <th>0</th>\n",
              "      <td>Nível Territorial (Código)</td>\n",
              "      <td>Nível Territorial</td>\n",
              "      <td>Brasil (Código)</td>\n",
              "      <td>Brasil</td>\n",
              "      <td>Trimestre (Código)</td>\n",
              "      <td>Trimestre</td>\n",
              "      <td>Variável (Código)</td>\n",
              "      <td>Variável</td>\n",
              "      <td>Cor ou raça (Código)</td>\n",
              "      <td>Cor ou raça</td>\n",
              "      <td>Unidade de Medida (Código)</td>\n",
              "      <td>Unidade de Medida</td>\n",
              "      <td>Valor</td>\n",
              "    </tr>\n",
              "    <tr>\n",
              "      <th>1</th>\n",
              "      <td>1</td>\n",
              "      <td>Brasil</td>\n",
              "      <td>1</td>\n",
              "      <td>Brasil</td>\n",
              "      <td>201201</td>\n",
              "      <td>1º trimestre 2012</td>\n",
              "      <td>606</td>\n",
              "      <td>População</td>\n",
              "      <td>2776</td>\n",
              "      <td>Branca</td>\n",
              "      <td>1572</td>\n",
              "      <td>Mil pessoas</td>\n",
              "      <td>92773</td>\n",
              "    </tr>\n",
              "    <tr>\n",
              "      <th>2</th>\n",
              "      <td>1</td>\n",
              "      <td>Brasil</td>\n",
              "      <td>1</td>\n",
              "      <td>Brasil</td>\n",
              "      <td>201201</td>\n",
              "      <td>1º trimestre 2012</td>\n",
              "      <td>606</td>\n",
              "      <td>População</td>\n",
              "      <td>2777</td>\n",
              "      <td>Preta</td>\n",
              "      <td>1572</td>\n",
              "      <td>Mil pessoas</td>\n",
              "      <td>14866</td>\n",
              "    </tr>\n",
              "    <tr>\n",
              "      <th>3</th>\n",
              "      <td>1</td>\n",
              "      <td>Brasil</td>\n",
              "      <td>1</td>\n",
              "      <td>Brasil</td>\n",
              "      <td>201201</td>\n",
              "      <td>1º trimestre 2012</td>\n",
              "      <td>606</td>\n",
              "      <td>População</td>\n",
              "      <td>2779</td>\n",
              "      <td>Parda</td>\n",
              "      <td>1572</td>\n",
              "      <td>Mil pessoas</td>\n",
              "      <td>87909</td>\n",
              "    </tr>\n",
              "    <tr>\n",
              "      <th>4</th>\n",
              "      <td>1</td>\n",
              "      <td>Brasil</td>\n",
              "      <td>1</td>\n",
              "      <td>Brasil</td>\n",
              "      <td>201202</td>\n",
              "      <td>2º trimestre 2012</td>\n",
              "      <td>606</td>\n",
              "      <td>População</td>\n",
              "      <td>2776</td>\n",
              "      <td>Branca</td>\n",
              "      <td>1572</td>\n",
              "      <td>Mil pessoas</td>\n",
              "      <td>91715</td>\n",
              "    </tr>\n",
              "    <tr>\n",
              "      <th>...</th>\n",
              "      <td>...</td>\n",
              "      <td>...</td>\n",
              "      <td>...</td>\n",
              "      <td>...</td>\n",
              "      <td>...</td>\n",
              "      <td>...</td>\n",
              "      <td>...</td>\n",
              "      <td>...</td>\n",
              "      <td>...</td>\n",
              "      <td>...</td>\n",
              "      <td>...</td>\n",
              "      <td>...</td>\n",
              "      <td>...</td>\n",
              "    </tr>\n",
              "    <tr>\n",
              "      <th>95</th>\n",
              "      <td>1</td>\n",
              "      <td>Brasil</td>\n",
              "      <td>1</td>\n",
              "      <td>Brasil</td>\n",
              "      <td>201904</td>\n",
              "      <td>4º trimestre 2019</td>\n",
              "      <td>606</td>\n",
              "      <td>População</td>\n",
              "      <td>2777</td>\n",
              "      <td>Preta</td>\n",
              "      <td>1572</td>\n",
              "      <td>Mil pessoas</td>\n",
              "      <td>19880</td>\n",
              "    </tr>\n",
              "    <tr>\n",
              "      <th>96</th>\n",
              "      <td>1</td>\n",
              "      <td>Brasil</td>\n",
              "      <td>1</td>\n",
              "      <td>Brasil</td>\n",
              "      <td>201904</td>\n",
              "      <td>4º trimestre 2019</td>\n",
              "      <td>606</td>\n",
              "      <td>População</td>\n",
              "      <td>2779</td>\n",
              "      <td>Parda</td>\n",
              "      <td>1572</td>\n",
              "      <td>Mil pessoas</td>\n",
              "      <td>99355</td>\n",
              "    </tr>\n",
              "    <tr>\n",
              "      <th>97</th>\n",
              "      <td>1</td>\n",
              "      <td>Brasil</td>\n",
              "      <td>1</td>\n",
              "      <td>Brasil</td>\n",
              "      <td>202001</td>\n",
              "      <td>1º trimestre 2020</td>\n",
              "      <td>606</td>\n",
              "      <td>População</td>\n",
              "      <td>2776</td>\n",
              "      <td>Branca</td>\n",
              "      <td>1572</td>\n",
              "      <td>Mil pessoas</td>\n",
              "      <td>89856</td>\n",
              "    </tr>\n",
              "    <tr>\n",
              "      <th>98</th>\n",
              "      <td>1</td>\n",
              "      <td>Brasil</td>\n",
              "      <td>1</td>\n",
              "      <td>Brasil</td>\n",
              "      <td>202001</td>\n",
              "      <td>1º trimestre 2020</td>\n",
              "      <td>606</td>\n",
              "      <td>População</td>\n",
              "      <td>2777</td>\n",
              "      <td>Preta</td>\n",
              "      <td>1572</td>\n",
              "      <td>Mil pessoas</td>\n",
              "      <td>19339</td>\n",
              "    </tr>\n",
              "    <tr>\n",
              "      <th>99</th>\n",
              "      <td>1</td>\n",
              "      <td>Brasil</td>\n",
              "      <td>1</td>\n",
              "      <td>Brasil</td>\n",
              "      <td>202001</td>\n",
              "      <td>1º trimestre 2020</td>\n",
              "      <td>606</td>\n",
              "      <td>População</td>\n",
              "      <td>2779</td>\n",
              "      <td>Parda</td>\n",
              "      <td>1572</td>\n",
              "      <td>Mil pessoas</td>\n",
              "      <td>99257</td>\n",
              "    </tr>\n",
              "  </tbody>\n",
              "</table>\n",
              "<p>100 rows × 13 columns</p>\n",
              "</div>"
            ],
            "text/plain": [
              "                            NC                 NN  ...                 MN      V\n",
              "0   Nível Territorial (Código)  Nível Territorial  ...  Unidade de Medida  Valor\n",
              "1                            1             Brasil  ...        Mil pessoas  92773\n",
              "2                            1             Brasil  ...        Mil pessoas  14866\n",
              "3                            1             Brasil  ...        Mil pessoas  87909\n",
              "4                            1             Brasil  ...        Mil pessoas  91715\n",
              "..                         ...                ...  ...                ...    ...\n",
              "95                           1             Brasil  ...        Mil pessoas  19880\n",
              "96                           1             Brasil  ...        Mil pessoas  99355\n",
              "97                           1             Brasil  ...        Mil pessoas  89856\n",
              "98                           1             Brasil  ...        Mil pessoas  19339\n",
              "99                           1             Brasil  ...        Mil pessoas  99257\n",
              "\n",
              "[100 rows x 13 columns]"
            ]
          },
          "metadata": {
            "tags": []
          },
          "execution_count": 28
        }
      ]
    },
    {
      "cell_type": "code",
      "metadata": {
        "id": "QGamRFNpvU6l",
        "colab": {
          "base_uri": "https://localhost:8080/",
          "height": 241
        },
        "outputId": "c0a42050-291a-46ec-cc0f-bb605fc93768"
      },
      "source": [
        "# População (mil pessoas) por cor ou raça a partir da PNADC trimestral para o último período em Belo Horizonte/MG\n",
        "populacao_bh = sidrapy.get_table(table_code='6403', variable='606',classification='86/2776,2777,2779',\n",
        "                                      territorial_level='6', ibge_territorial_code='3106200')\n",
        "populacao_bh\n"
      ],
      "execution_count": null,
      "outputs": [
        {
          "output_type": "execute_result",
          "data": {
            "text/html": [
              "<div>\n",
              "<style scoped>\n",
              "    .dataframe tbody tr th:only-of-type {\n",
              "        vertical-align: middle;\n",
              "    }\n",
              "\n",
              "    .dataframe tbody tr th {\n",
              "        vertical-align: top;\n",
              "    }\n",
              "\n",
              "    .dataframe thead th {\n",
              "        text-align: right;\n",
              "    }\n",
              "</style>\n",
              "<table border=\"1\" class=\"dataframe\">\n",
              "  <thead>\n",
              "    <tr style=\"text-align: right;\">\n",
              "      <th></th>\n",
              "      <th>NC</th>\n",
              "      <th>NN</th>\n",
              "      <th>D1C</th>\n",
              "      <th>D1N</th>\n",
              "      <th>D2C</th>\n",
              "      <th>D2N</th>\n",
              "      <th>D3C</th>\n",
              "      <th>D3N</th>\n",
              "      <th>D4C</th>\n",
              "      <th>D4N</th>\n",
              "      <th>MC</th>\n",
              "      <th>MN</th>\n",
              "      <th>V</th>\n",
              "    </tr>\n",
              "  </thead>\n",
              "  <tbody>\n",
              "    <tr>\n",
              "      <th>0</th>\n",
              "      <td>Nível Territorial (Código)</td>\n",
              "      <td>Nível Territorial</td>\n",
              "      <td>Município (Código)</td>\n",
              "      <td>Município</td>\n",
              "      <td>Variável (Código)</td>\n",
              "      <td>Variável</td>\n",
              "      <td>Cor ou raça (Código)</td>\n",
              "      <td>Cor ou raça</td>\n",
              "      <td>Trimestre (Código)</td>\n",
              "      <td>Trimestre</td>\n",
              "      <td>Unidade de Medida (Código)</td>\n",
              "      <td>Unidade de Medida</td>\n",
              "      <td>Valor</td>\n",
              "    </tr>\n",
              "    <tr>\n",
              "      <th>1</th>\n",
              "      <td>6</td>\n",
              "      <td>Município</td>\n",
              "      <td>3106200</td>\n",
              "      <td>Belo Horizonte (MG)</td>\n",
              "      <td>606</td>\n",
              "      <td>População</td>\n",
              "      <td>2776</td>\n",
              "      <td>Branca</td>\n",
              "      <td>202001</td>\n",
              "      <td>1º trimestre 2020</td>\n",
              "      <td>1572</td>\n",
              "      <td>Mil pessoas</td>\n",
              "      <td>1044</td>\n",
              "    </tr>\n",
              "    <tr>\n",
              "      <th>2</th>\n",
              "      <td>6</td>\n",
              "      <td>Município</td>\n",
              "      <td>3106200</td>\n",
              "      <td>Belo Horizonte (MG)</td>\n",
              "      <td>606</td>\n",
              "      <td>População</td>\n",
              "      <td>2777</td>\n",
              "      <td>Preta</td>\n",
              "      <td>202001</td>\n",
              "      <td>1º trimestre 2020</td>\n",
              "      <td>1572</td>\n",
              "      <td>Mil pessoas</td>\n",
              "      <td>335</td>\n",
              "    </tr>\n",
              "    <tr>\n",
              "      <th>3</th>\n",
              "      <td>6</td>\n",
              "      <td>Município</td>\n",
              "      <td>3106200</td>\n",
              "      <td>Belo Horizonte (MG)</td>\n",
              "      <td>606</td>\n",
              "      <td>População</td>\n",
              "      <td>2779</td>\n",
              "      <td>Parda</td>\n",
              "      <td>202001</td>\n",
              "      <td>1º trimestre 2020</td>\n",
              "      <td>1572</td>\n",
              "      <td>Mil pessoas</td>\n",
              "      <td>1130</td>\n",
              "    </tr>\n",
              "  </tbody>\n",
              "</table>\n",
              "</div>"
            ],
            "text/plain": [
              "                           NC                 NN  ...                 MN      V\n",
              "0  Nível Territorial (Código)  Nível Territorial  ...  Unidade de Medida  Valor\n",
              "1                           6          Município  ...        Mil pessoas   1044\n",
              "2                           6          Município  ...        Mil pessoas    335\n",
              "3                           6          Município  ...        Mil pessoas   1130\n",
              "\n",
              "[4 rows x 13 columns]"
            ]
          },
          "metadata": {
            "tags": []
          },
          "execution_count": 29
        }
      ]
    },
    {
      "cell_type": "code",
      "metadata": {
        "id": "kvVSV6tGv18P",
        "colab": {
          "base_uri": "https://localhost:8080/",
          "height": 227
        },
        "outputId": "1ca32d25-6c18-4087-fd87-4097362e6649"
      },
      "source": [
        "# Percentual da população branca e preta a partir da PNADC trimestral para todo o período em Belo Horizonte/MG\n",
        "populacao_bh_percentual = sidrapy.get_table(table_code='6403', variable='608',classification='86/2776,2777',\n",
        "                                      territorial_level='6', ibge_territorial_code='3106200')\n",
        "populacao_bh_percentual"
      ],
      "execution_count": null,
      "outputs": [
        {
          "output_type": "execute_result",
          "data": {
            "text/html": [
              "<div>\n",
              "<style scoped>\n",
              "    .dataframe tbody tr th:only-of-type {\n",
              "        vertical-align: middle;\n",
              "    }\n",
              "\n",
              "    .dataframe tbody tr th {\n",
              "        vertical-align: top;\n",
              "    }\n",
              "\n",
              "    .dataframe thead th {\n",
              "        text-align: right;\n",
              "    }\n",
              "</style>\n",
              "<table border=\"1\" class=\"dataframe\">\n",
              "  <thead>\n",
              "    <tr style=\"text-align: right;\">\n",
              "      <th></th>\n",
              "      <th>NC</th>\n",
              "      <th>NN</th>\n",
              "      <th>D1C</th>\n",
              "      <th>D1N</th>\n",
              "      <th>D2C</th>\n",
              "      <th>D2N</th>\n",
              "      <th>D3C</th>\n",
              "      <th>D3N</th>\n",
              "      <th>D4C</th>\n",
              "      <th>D4N</th>\n",
              "      <th>MC</th>\n",
              "      <th>MN</th>\n",
              "      <th>V</th>\n",
              "    </tr>\n",
              "  </thead>\n",
              "  <tbody>\n",
              "    <tr>\n",
              "      <th>0</th>\n",
              "      <td>Nível Territorial (Código)</td>\n",
              "      <td>Nível Territorial</td>\n",
              "      <td>Município (Código)</td>\n",
              "      <td>Município</td>\n",
              "      <td>Variável (Código)</td>\n",
              "      <td>Variável</td>\n",
              "      <td>Cor ou raça (Código)</td>\n",
              "      <td>Cor ou raça</td>\n",
              "      <td>Trimestre (Código)</td>\n",
              "      <td>Trimestre</td>\n",
              "      <td>Unidade de Medida (Código)</td>\n",
              "      <td>Unidade de Medida</td>\n",
              "      <td>Valor</td>\n",
              "    </tr>\n",
              "    <tr>\n",
              "      <th>1</th>\n",
              "      <td>6</td>\n",
              "      <td>Município</td>\n",
              "      <td>3106200</td>\n",
              "      <td>Belo Horizonte (MG)</td>\n",
              "      <td>608</td>\n",
              "      <td>Percentual da população</td>\n",
              "      <td>2776</td>\n",
              "      <td>Branca</td>\n",
              "      <td>202001</td>\n",
              "      <td>1º trimestre 2020</td>\n",
              "      <td>2</td>\n",
              "      <td>%</td>\n",
              "      <td>41.5</td>\n",
              "    </tr>\n",
              "    <tr>\n",
              "      <th>2</th>\n",
              "      <td>6</td>\n",
              "      <td>Município</td>\n",
              "      <td>3106200</td>\n",
              "      <td>Belo Horizonte (MG)</td>\n",
              "      <td>608</td>\n",
              "      <td>Percentual da população</td>\n",
              "      <td>2777</td>\n",
              "      <td>Preta</td>\n",
              "      <td>202001</td>\n",
              "      <td>1º trimestre 2020</td>\n",
              "      <td>2</td>\n",
              "      <td>%</td>\n",
              "      <td>13.3</td>\n",
              "    </tr>\n",
              "  </tbody>\n",
              "</table>\n",
              "</div>"
            ],
            "text/plain": [
              "                           NC                 NN  ...                 MN      V\n",
              "0  Nível Territorial (Código)  Nível Territorial  ...  Unidade de Medida  Valor\n",
              "1                           6          Município  ...                  %   41.5\n",
              "2                           6          Município  ...                  %   13.3\n",
              "\n",
              "[3 rows x 13 columns]"
            ]
          },
          "metadata": {
            "tags": []
          },
          "execution_count": 30
        }
      ]
    },
    {
      "cell_type": "markdown",
      "metadata": {
        "id": "bVPpSrATwHdV"
      },
      "source": [
        "---"
      ]
    },
    {
      "cell_type": "code",
      "metadata": {
        "id": "wDAWT2MjwIAL"
      },
      "source": [],
      "execution_count": null,
      "outputs": []
    }
  ]
}